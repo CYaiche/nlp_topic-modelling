{
  "cells": [
    {
      "attachments": {},
      "cell_type": "markdown",
      "metadata": {
        "colab_type": "text",
        "id": "view-in-github"
      },
      "source": [
        "<a href=\"https://colab.research.google.com/github/CYaiche/Machine_Learning/blob/master/projet5/embedding_topic_modeling.ipynb\" target=\"_parent\"><img src=\"https://colab.research.google.com/assets/colab-badge.svg\" alt=\"Open In Colab\"/></a>"
      ]
    },
    {
      "attachments": {},
      "cell_type": "markdown",
      "metadata": {
        "id": "Exy2TPsxHFl5"
      },
      "source": [
        "\n",
        "# Supervised topic modeling : NN approach\n",
        "\n"
      ]
    },
    {
      "cell_type": "code",
      "execution_count": 1,
      "metadata": {
        "id": "Nebb9sgrHSLV"
      },
      "outputs": [
        {
          "name": "stderr",
          "output_type": "stream",
          "text": [
            "c:\\dev\\topic_modelling\\lib\\site-packages\\tqdm\\auto.py:21: TqdmWarning: IProgress not found. Please update jupyter and ipywidgets. See https://ipywidgets.readthedocs.io/en/stable/user_install.html\n",
            "  from .autonotebook import tqdm as notebook_tqdm\n"
          ]
        }
      ],
      "source": [
        "from  tm_common import *\n",
        "IN_COLAB, output_dir = tm_get_working_config()\n",
        "import os, sys\n",
        "import numpy as np\n",
        "import pandas as pd\n",
        "import matplotlib.pyplot as plt\n",
        "\n",
        "import gensim.corpora as corpora\n",
        "from gensim.models import KeyedVectors\n",
        "from gensim.models import Word2Vec\n",
        "\n",
        "from sklearn.preprocessing import MultiLabelBinarizer\n",
        "from keras.utils import pad_sequences\n",
        "from sklearn.metrics import jaccard_score, average_precision_score\n",
        "\n",
        "import tensorflow as tf\n",
        "import tensorflow_hub as hub\n",
        "from tensorflow import keras\n",
        "from tensorflow.keras import layers\n",
        "from tensorflow.keras.models import Sequential\n",
        "from tensorflow.keras.layers import (\n",
        "    Flatten,\n",
        "    Embedding,\n",
        "    Dense,\n",
        "    Input,\n",
        "    Embedding,\n",
        "    GlobalAveragePooling1D,\n",
        ")\n",
        "\n",
        "from sentence_transformers import SentenceTransformer"
      ]
    },
    {
      "cell_type": "code",
      "execution_count": 2,
      "metadata": {},
      "outputs": [
        {
          "name": "stdout",
          "output_type": "stream",
          "text": [
            "Python version used :  3.8.10 \n",
            "Tensorflow  :  2.10.1\n"
          ]
        }
      ],
      "source": [
        "print(\"Python version used : \", sys.version[:7])\n",
        "print(\"Tensorflow  : \", tf.version.VERSION)"
      ]
    },
    {
      "cell_type": "code",
      "execution_count": 3,
      "metadata": {
        "id": "vawUwgJuG6E0"
      },
      "outputs": [],
      "source": [
        "X_train, X_test, y_train, y_test = tm_load_train_test_set(output_dir)\n",
        "\n",
        "X_corpus_train, X_corpus_test = tm_load_train_test_set(output_dir, option=\"raw_corpus\")\n",
        "label_list = tm_get_label_list(output_dir)"
      ]
    },
    {
      "cell_type": "code",
      "execution_count": 4,
      "metadata": {},
      "outputs": [],
      "source": [
        "X_train, y_train = tm_get_subset(X_train, y_train)\n",
        "X_test, y_test = tm_get_subset(X_test, y_test)\n",
        "X_corpus_train, X_corpus_test = tm_get_subset(X_corpus_train, X_corpus_test)"
      ]
    },
    {
      "cell_type": "code",
      "execution_count": 5,
      "metadata": {
        "id": "J-xWVEn28vC7"
      },
      "outputs": [],
      "source": [
        "y_train_b, y_test_b = tm_multilabel_binarizer(y_train, y_test)"
      ]
    },
    {
      "attachments": {},
      "cell_type": "markdown",
      "metadata": {
        "id": "uS-D3tkeHOPZ"
      },
      "source": [
        "# Neural Networks\n",
        "\n",
        "Multilayers perceptron (MLP) for multi-label classification\n",
        "\n",
        "loss funstion : binary cross-entropy loss function\n",
        "\n",
        "activation function : ReLU in the hidden layers\n",
        "\n",
        "adam version of stochastic gradient descent"
      ]
    },
    {
      "attachments": {},
      "cell_type": "markdown",
      "metadata": {
        "id": "BJxW23-VJqpn"
      },
      "source": [
        "# Embedding preprocessing"
      ]
    },
    {
      "cell_type": "code",
      "execution_count": 6,
      "metadata": {
        "id": "if85zWvcMoHq"
      },
      "outputs": [],
      "source": [
        "X_train_list = [ x.tolist() for x in X_train]"
      ]
    },
    {
      "cell_type": "code",
      "execution_count": 7,
      "metadata": {
        "colab": {
          "base_uri": "https://localhost:8080/"
        },
        "id": "GF6stGYZMmbe",
        "outputId": "d7064a51-5c35-4df6-9ef1-f9a17d6e3743"
      },
      "outputs": [
        {
          "name": "stdout",
          "output_type": "stream",
          "text": [
            "Build & train Word2Vec model ...\n"
          ]
        }
      ],
      "source": [
        "#  Word2Vec model creation\n",
        "w2v_size=300\n",
        "w2v_window=5\n",
        "w2v_min_count=1\n",
        "w2v_epochs=100\n",
        "maxlen = 24 # adapt to length of sentences\n",
        "\n",
        "sentences = X_train_list\n",
        "\n",
        "print(\"Build & train Word2Vec model ...\")\n",
        "w2v_model = Word2Vec(min_count=w2v_min_count, window=w2v_window,\n",
        "                                                vector_size=w2v_size,\n",
        "                                                seed=42,\n",
        "                                                workers=1)"
      ]
    },
    {
      "attachments": {},
      "cell_type": "markdown",
      "metadata": {
        "id": "Hc3ujOIt5sWq"
      },
      "source": [
        "The reason for separating the trained vectors into KeyedVectors is that if you don’t need the full model state any more (don’t need to continue training), the state can discarded, resulting in a much smaller and faster object that can be mmapped for lightning fast loading and sharing the vectors in RAM between processes:\n",
        "\n",
        "Gensim can also load word vectors in the “word2vec C format”, as a KeyedVectors instance:"
      ]
    },
    {
      "cell_type": "code",
      "execution_count": 8,
      "metadata": {
        "id": "KYe3tvkgMGS7"
      },
      "outputs": [],
      "source": [
        "try:\n",
        "    model_vectors = KeyedVectors.load(f\"{output_dir}model_vector.wv\", mmap=\"r\")\n",
        "except:\n",
        "    w2v_model.build_vocab(sentences)\n",
        "    w2v_model.train(sentences, total_examples=w2v_model.corpus_count, epochs=w2v_epochs)\n",
        "    model_vectors = w2v_model.wv\n",
        "\n",
        "    model_vectors.save(f\"{output_dir}model_vector.wv\")"
      ]
    },
    {
      "cell_type": "code",
      "execution_count": 9,
      "metadata": {},
      "outputs": [
        {
          "name": "stdout",
          "output_type": "stream",
          "text": [
            "Vocabulary size: 370103\n",
            "Word2Vec trained\n"
          ]
        }
      ],
      "source": [
        "w2v_words = model_vectors.index_to_key\n",
        "print(\"Vocabulary size: %i\" % len(w2v_words))\n",
        "print(\"Word2Vec trained\")"
      ]
    },
    {
      "cell_type": "code",
      "execution_count": 10,
      "metadata": {
        "colab": {
          "base_uri": "https://localhost:8080/"
        },
        "id": "DMBiPMxDQsjW",
        "outputId": "865db21a-6ed0-4fb3-81d2-f8f1652abc97"
      },
      "outputs": [
        {
          "name": "stdout",
          "output_type": "stream",
          "text": [
            "Word2Vec<vocab=0, vector_size=300, alpha=0.025>\n"
          ]
        }
      ],
      "source": [
        "print(w2v_model)"
      ]
    },
    {
      "cell_type": "code",
      "execution_count": 11,
      "metadata": {
        "id": "t-xufgfQallL"
      },
      "outputs": [],
      "source": [
        "d = dict(zip(label_list, range(0,len(label_list))))"
      ]
    },
    {
      "cell_type": "code",
      "execution_count": 12,
      "metadata": {
        "id": "jaLWWIQLOJBS"
      },
      "outputs": [],
      "source": [
        "id2word = corpora.Dictionary(X_train)\n",
        "x_train_ids = [ id2word.doc2idx(tokens) for tokens in X_train]\n",
        "\n",
        "x_test_ids = [ id2word.doc2idx(tokens) for tokens in X_test  ]\n",
        "# Filter out -1 from x_test_ids\n",
        "filtered_x_test_ids = [[word_id for word_id in sentence if word_id != -1] for sentence in x_test_ids]\n",
        "\n"
      ]
    },
    {
      "cell_type": "code",
      "execution_count": 13,
      "metadata": {
        "colab": {
          "base_uri": "https://localhost:8080/"
        },
        "id": "-NCXNAT_RrMA",
        "outputId": "6c994365-07fe-4629-cfd5-91ad74ebc196"
      },
      "outputs": [
        {
          "name": "stdout",
          "output_type": "stream",
          "text": [
            "max_length : 1862\n"
          ]
        }
      ],
      "source": [
        "max_length = np.max([ len(x) for x in x_train_ids])\n",
        "print(f\"max_length : {max_length}\")"
      ]
    },
    {
      "attachments": {},
      "cell_type": "markdown",
      "metadata": {
        "id": "ETr4guPjpjau"
      },
      "source": [
        "# Embedding matrix"
      ]
    },
    {
      "cell_type": "code",
      "execution_count": 14,
      "metadata": {
        "colab": {
          "base_uri": "https://localhost:8080/"
        },
        "id": "CZM-9CW-qch7",
        "outputId": "9235cfae-1754-4aec-eeac-0380f83d3416"
      },
      "outputs": [
        {
          "data": {
            "text/plain": [
              "300"
            ]
          },
          "execution_count": 14,
          "metadata": {},
          "output_type": "execute_result"
        }
      ],
      "source": [
        "len(model_vectors[0])"
      ]
    },
    {
      "cell_type": "code",
      "execution_count": 15,
      "metadata": {
        "colab": {
          "base_uri": "https://localhost:8080/"
        },
        "id": "087wFGULpmS9",
        "outputId": "5656f95f-8d51-456d-e982-8ab9e702e207"
      },
      "outputs": [
        {
          "name": "stdout",
          "output_type": "stream",
          "text": [
            "Embedding matrix: (370103, 300)\n"
          ]
        }
      ],
      "source": [
        "word2vec_vocab_size = len(model_vectors.key_to_index)\n",
        "w2vec_dim = len(model_vectors[0])\n",
        "word2vec_embedding_matrix = np.zeros((word2vec_vocab_size, w2vec_dim))\n",
        "\n",
        "for word in model_vectors.key_to_index:\n",
        "    embedding_vector = model_vectors[word]\n",
        "    if embedding_vector is not None:\n",
        "        idx = model_vectors.key_to_index[word]\n",
        "        word2vec_embedding_matrix[idx] = embedding_vector\n",
        "\n",
        "print(\"Embedding matrix: %s\" % str(word2vec_embedding_matrix.shape))"
      ]
    },
    {
      "attachments": {},
      "cell_type": "markdown",
      "metadata": {
        "id": "nfo8-bOfbMLW"
      },
      "source": [
        "# Apply padding"
      ]
    },
    {
      "cell_type": "code",
      "execution_count": 16,
      "metadata": {
        "id": "r91-eP4gY51k"
      },
      "outputs": [],
      "source": [
        "x_train_pad = pad_sequences(x_train_ids, maxlen=max_length, padding='pre',value=0)\n",
        "x_test_pad = pad_sequences(filtered_x_test_ids, maxlen=max_length, padding='pre',value=0)\n"
      ]
    },
    {
      "cell_type": "code",
      "execution_count": 17,
      "metadata": {
        "colab": {
          "base_uri": "https://localhost:8080/"
        },
        "id": "fbkX2vkYQWml",
        "outputId": "3937b14a-5ee8-48ad-959f-f435e1b6d576"
      },
      "outputs": [
        {
          "name": "stdout",
          "output_type": "stream",
          "text": [
            "Model: \"sequential\"\n",
            "_________________________________________________________________\n",
            " Layer (type)                Output Shape              Param #   \n",
            "=================================================================\n",
            " embedding (Embedding)       (None, 1862, 300)         111030900 \n",
            "                                                                 \n",
            " global_average_pooling1d (G  (None, 300)              0         \n",
            " lobalAveragePooling1D)                                          \n",
            "                                                                 \n",
            " dense (Dense)               (None, 30)                9030      \n",
            "                                                                 \n",
            "=================================================================\n",
            "Total params: 111,039,930\n",
            "Trainable params: 111,039,930\n",
            "Non-trainable params: 0\n",
            "_________________________________________________________________\n",
            "None\n"
          ]
        }
      ],
      "source": [
        "model = Sequential()\n",
        "# model.add(Input(shape=(1,max_length),dtype='float64'))\n",
        "model.add(Embedding( word2vec_vocab_size, w2vec_dim,weights=[word2vec_embedding_matrix],  input_length=max_length))\n",
        "model.add(GlobalAveragePooling1D())\n",
        "model.add(Dense(30,activation='sigmoid'))\n",
        "print(model.summary())"
      ]
    },
    {
      "cell_type": "code",
      "execution_count": 18,
      "metadata": {
        "id": "GEpi_Spe3KSF"
      },
      "outputs": [],
      "source": [
        "model.compile(optimizer='adam', loss='binary_crossentropy',metrics=['accuracy'])"
      ]
    },
    {
      "cell_type": "code",
      "execution_count": 19,
      "metadata": {
        "colab": {
          "base_uri": "https://localhost:8080/"
        },
        "id": "qp97pRuR8bu-",
        "outputId": "9942339f-43c2-41ba-92d0-b863a750ae20"
      },
      "outputs": [
        {
          "name": "stdout",
          "output_type": "stream",
          "text": [
            "Epoch 1/50\n",
            "49/49 [==============================] - 59s 1s/step - loss: 0.2846 - accuracy: 0.1246\n",
            "Epoch 2/50\n",
            " 2/49 [>.............................] - ETA: 51s - loss: 0.2012 - accuracy: 0.1562"
          ]
        }
      ],
      "source": [
        "model.fit(x_train_pad, y_train_b, batch_size=128, epochs=50)"
      ]
    },
    {
      "cell_type": "code",
      "execution_count": null,
      "metadata": {},
      "outputs": [
        {
          "name": "stdout",
          "output_type": "stream",
          "text": [
            "  1/194 [..............................] - ETA: 13s"
          ]
        },
        {
          "name": "stdout",
          "output_type": "stream",
          "text": [
            "194/194 [==============================] - 4s 21ms/step\n"
          ]
        }
      ],
      "source": [
        "y_pred = model.predict(x_train_pad)\n",
        "threshold_test = tm_test_threshold(y_train_b, y_pred)  \n"
      ]
    },
    {
      "cell_type": "code",
      "execution_count": null,
      "metadata": {},
      "outputs": [
        {
          "data": {
            "image/png": "[encoded data removed]",
            "text/plain": [
              "<Figure size 640x480 with 1 Axes>"
            ]
          },
          "metadata": {},
          "output_type": "display_data"
        }
      ],
      "source": [
        "tm_plot_threshold_test(threshold_test)"
      ]
    },
    {
      "cell_type": "code",
      "execution_count": null,
      "metadata": {},
      "outputs": [
        {
          "data": {
            "text/plain": [
              "0.09999999999999346"
            ]
          },
          "execution_count": 94,
          "metadata": {},
          "output_type": "execute_result"
        }
      ],
      "source": [
        "\n",
        "max_config = threshold_test.query('precision == precision.max()')\n",
        "t = max_config[\"threshold\"]\n",
        "best_t =  t.values[0]\n",
        "\n",
        "best_t"
      ]
    },
    {
      "cell_type": "code",
      "execution_count": null,
      "metadata": {
        "colab": {
          "base_uri": "https://localhost:8080/",
          "height": 1000
        },
        "id": "O8ofX6_a__Ne",
        "outputId": "1bc97b10-fccb-414e-bea5-dec4ea5a2e04"
      },
      "outputs": [
        {
          "name": "stdout",
          "output_type": "stream",
          "text": [
            "49/49 [==============================] - 2s 33ms/step\n"
          ]
        }
      ],
      "source": [
        "y_pred = model.predict(x_test_pad)\n",
        "y_pred_nn = (y_pred > best_t).astype(np.float32)"
      ]
    },
    {
      "cell_type": "code",
      "execution_count": null,
      "metadata": {
        "id": "ezkkFTFV9e8Q"
      },
      "outputs": [],
      "source": [
        "\n",
        "precision_w2v      = average_precision_score(y_test_b, y_pred_nn, average='micro')\n",
        "jaccard_score_w2v = jaccard_score(y_test_b, y_pred_nn, average='micro')"
      ]
    },
    {
      "attachments": {},
      "cell_type": "markdown",
      "metadata": {
        "id": "jl4XyvqgK4h0"
      },
      "source": [
        "The vocab is the number of unique words in my train data.\n",
        "The size is the dimension in output of my embedding."
      ]
    },
    {
      "cell_type": "code",
      "execution_count": null,
      "metadata": {},
      "outputs": [],
      "source": [
        "plot_confusion_matrix(y_test_b, y_pred_nn, label_list)"
      ]
    },
    {
      "cell_type": "code",
      "execution_count": null,
      "metadata": {},
      "outputs": [],
      "source": [
        "ethqetjsryjsrytk"
      ]
    },
    {
      "attachments": {},
      "cell_type": "markdown",
      "metadata": {},
      "source": [
        "# USE : Universal Sentence Encoder \n",
        "encodes into high-dimensional vectors, trained on variety of data and output 512 dimensional vector"
      ]
    },
    {
      "attachments": {},
      "cell_type": "markdown",
      "metadata": {},
      "source": [
        "# apply padding to words "
      ]
    },
    {
      "cell_type": "code",
      "execution_count": null,
      "metadata": {},
      "outputs": [],
      "source": [
        "embed = hub.load(\"https://tfhub.dev/google/universal-sentence-encoder/4\")"
      ]
    },
    {
      "cell_type": "code",
      "execution_count": null,
      "metadata": {},
      "outputs": [],
      "source": [
        "X_train_use_embedding = embed(X_corpus_train.tolist())\n",
        "X_test_use_embedding = embed(X_corpus_test.tolist())"
      ]
    },
    {
      "cell_type": "code",
      "execution_count": null,
      "metadata": {},
      "outputs": [
        {
          "name": "stdout",
          "output_type": "stream",
          "text": [
            "Model: \"sequential_3\"\n",
            "_________________________________________________________________\n",
            " Layer (type)                Output Shape              Param #   \n",
            "=================================================================\n",
            " dense_7 (Dense)             (None, 256)               131328    \n",
            "                                                                 \n",
            " dense_8 (Dense)             (None, 128)               32896     \n",
            "                                                                 \n",
            " dense_9 (Dense)             (None, 30)                3870      \n",
            "                                                                 \n",
            "=================================================================\n",
            "Total params: 168,094\n",
            "Trainable params: 168,094\n",
            "Non-trainable params: 0\n",
            "_________________________________________________________________\n"
          ]
        }
      ],
      "source": [
        "use_model = Sequential()\n",
        "use_model.add(Dense(256, activation='relu', input_dim=512))\n",
        "use_model.add(Dense(128, activation='relu'))\n",
        "use_model.add(Dense(30,activation='sigmoid'))\n",
        "# Compile the model\n",
        "use_model.compile(optimizer='adam', loss='binary_crossentropy',metrics=['accuracy'])\n",
        "use_model.summary()"
      ]
    },
    {
      "cell_type": "code",
      "execution_count": null,
      "metadata": {},
      "outputs": [
        {
          "name": "stdout",
          "output_type": "stream",
          "text": [
            "Epoch 1/100\n"
          ]
        },
        {
          "name": "stdout",
          "output_type": "stream",
          "text": [
            "49/49 [==============================] - 0s 4ms/step - loss: 0.0488 - accuracy: 0.7633\n",
            "Epoch 2/100\n",
            "49/49 [==============================] - 0s 5ms/step - loss: 0.0481 - accuracy: 0.7679\n",
            "Epoch 3/100\n",
            "49/49 [==============================] - 0s 5ms/step - loss: 0.0473 - accuracy: 0.7669\n",
            "Epoch 4/100\n",
            "49/49 [==============================] - 0s 4ms/step - loss: 0.0466 - accuracy: 0.7690\n",
            "Epoch 5/100\n",
            "49/49 [==============================] - 0s 4ms/step - loss: 0.0458 - accuracy: 0.7698\n",
            "Epoch 6/100\n",
            "49/49 [==============================] - 0s 4ms/step - loss: 0.0450 - accuracy: 0.7700\n",
            "Epoch 7/100\n",
            "49/49 [==============================] - 0s 4ms/step - loss: 0.0443 - accuracy: 0.7726\n",
            "Epoch 8/100\n",
            "49/49 [==============================] - 0s 4ms/step - loss: 0.0433 - accuracy: 0.7729\n",
            "Epoch 9/100\n",
            "49/49 [==============================] - 0s 4ms/step - loss: 0.0428 - accuracy: 0.7766\n",
            "Epoch 10/100\n",
            "49/49 [==============================] - 0s 4ms/step - loss: 0.0419 - accuracy: 0.7771\n",
            "Epoch 11/100\n",
            "49/49 [==============================] - 0s 4ms/step - loss: 0.0412 - accuracy: 0.7792\n",
            "Epoch 12/100\n",
            "49/49 [==============================] - 0s 3ms/step - loss: 0.0403 - accuracy: 0.7829\n",
            "Epoch 13/100\n",
            "49/49 [==============================] - 0s 4ms/step - loss: 0.0395 - accuracy: 0.7863\n",
            "Epoch 14/100\n",
            "49/49 [==============================] - 0s 4ms/step - loss: 0.0386 - accuracy: 0.7850\n",
            "Epoch 15/100\n",
            "49/49 [==============================] - 0s 4ms/step - loss: 0.0380 - accuracy: 0.7884\n",
            "Epoch 16/100\n",
            "49/49 [==============================] - 0s 3ms/step - loss: 0.0371 - accuracy: 0.7868\n",
            "Epoch 17/100\n",
            "49/49 [==============================] - 0s 3ms/step - loss: 0.0364 - accuracy: 0.7925\n",
            "Epoch 18/100\n",
            "49/49 [==============================] - 0s 3ms/step - loss: 0.0354 - accuracy: 0.7907\n",
            "Epoch 19/100\n",
            "49/49 [==============================] - 0s 3ms/step - loss: 0.0348 - accuracy: 0.7910\n",
            "Epoch 20/100\n",
            "49/49 [==============================] - 0s 3ms/step - loss: 0.0339 - accuracy: 0.7981\n",
            "Epoch 21/100\n",
            "49/49 [==============================] - 0s 3ms/step - loss: 0.0330 - accuracy: 0.7957\n",
            "Epoch 22/100\n",
            "49/49 [==============================] - 0s 3ms/step - loss: 0.0324 - accuracy: 0.7972\n",
            "Epoch 23/100\n",
            "49/49 [==============================] - 0s 3ms/step - loss: 0.0316 - accuracy: 0.8014\n",
            "Epoch 24/100\n",
            "49/49 [==============================] - 0s 3ms/step - loss: 0.0308 - accuracy: 0.8030\n",
            "Epoch 25/100\n",
            "49/49 [==============================] - 0s 3ms/step - loss: 0.0300 - accuracy: 0.8039\n",
            "Epoch 26/100\n",
            "49/49 [==============================] - 0s 2ms/step - loss: 0.0290 - accuracy: 0.8017\n",
            "Epoch 27/100\n",
            "49/49 [==============================] - 0s 3ms/step - loss: 0.0283 - accuracy: 0.8080\n",
            "Epoch 28/100\n",
            "49/49 [==============================] - 0s 3ms/step - loss: 0.0274 - accuracy: 0.8069\n",
            "Epoch 29/100\n",
            "49/49 [==============================] - 0s 2ms/step - loss: 0.0267 - accuracy: 0.8086\n",
            "Epoch 30/100\n",
            "49/49 [==============================] - 0s 2ms/step - loss: 0.0262 - accuracy: 0.8109\n",
            "Epoch 31/100\n",
            "49/49 [==============================] - 0s 2ms/step - loss: 0.0254 - accuracy: 0.8146\n",
            "Epoch 32/100\n",
            "49/49 [==============================] - 0s 2ms/step - loss: 0.0247 - accuracy: 0.8130\n",
            "Epoch 33/100\n",
            "49/49 [==============================] - 0s 3ms/step - loss: 0.0237 - accuracy: 0.8137\n",
            "Epoch 34/100\n",
            "49/49 [==============================] - 0s 3ms/step - loss: 0.0231 - accuracy: 0.8180\n",
            "Epoch 35/100\n",
            "49/49 [==============================] - 0s 2ms/step - loss: 0.0223 - accuracy: 0.8188\n",
            "Epoch 36/100\n",
            "49/49 [==============================] - 0s 3ms/step - loss: 0.0215 - accuracy: 0.8209\n",
            "Epoch 37/100\n",
            "49/49 [==============================] - 0s 2ms/step - loss: 0.0209 - accuracy: 0.8196\n",
            "Epoch 38/100\n",
            "49/49 [==============================] - 0s 2ms/step - loss: 0.0201 - accuracy: 0.8238\n",
            "Epoch 39/100\n",
            "49/49 [==============================] - 0s 3ms/step - loss: 0.0193 - accuracy: 0.8198\n",
            "Epoch 40/100\n",
            "49/49 [==============================] - 0s 3ms/step - loss: 0.0188 - accuracy: 0.8229\n",
            "Epoch 41/100\n",
            "49/49 [==============================] - 0s 3ms/step - loss: 0.0181 - accuracy: 0.8253\n",
            "Epoch 42/100\n",
            "49/49 [==============================] - 0s 3ms/step - loss: 0.0176 - accuracy: 0.8264\n",
            "Epoch 43/100\n",
            "49/49 [==============================] - 0s 3ms/step - loss: 0.0167 - accuracy: 0.8243\n",
            "Epoch 44/100\n",
            "49/49 [==============================] - 0s 3ms/step - loss: 0.0161 - accuracy: 0.8237\n",
            "Epoch 45/100\n",
            "49/49 [==============================] - 0s 2ms/step - loss: 0.0154 - accuracy: 0.8263\n",
            "Epoch 46/100\n",
            "49/49 [==============================] - 0s 2ms/step - loss: 0.0149 - accuracy: 0.8272\n",
            "Epoch 47/100\n",
            "49/49 [==============================] - 0s 2ms/step - loss: 0.0145 - accuracy: 0.8271\n",
            "Epoch 48/100\n",
            "49/49 [==============================] - 0s 3ms/step - loss: 0.0136 - accuracy: 0.8293\n",
            "Epoch 49/100\n",
            "49/49 [==============================] - 0s 3ms/step - loss: 0.0132 - accuracy: 0.8292\n",
            "Epoch 50/100\n",
            "49/49 [==============================] - 0s 2ms/step - loss: 0.0125 - accuracy: 0.8321\n",
            "Epoch 51/100\n",
            "49/49 [==============================] - 0s 2ms/step - loss: 0.0120 - accuracy: 0.8298\n",
            "Epoch 52/100\n",
            "49/49 [==============================] - 0s 2ms/step - loss: 0.0114 - accuracy: 0.8324\n",
            "Epoch 53/100\n",
            "49/49 [==============================] - 0s 2ms/step - loss: 0.0110 - accuracy: 0.8302\n",
            "Epoch 54/100\n",
            "49/49 [==============================] - 0s 2ms/step - loss: 0.0105 - accuracy: 0.8326\n",
            "Epoch 55/100\n",
            "49/49 [==============================] - 0s 3ms/step - loss: 0.0101 - accuracy: 0.8344\n",
            "Epoch 56/100\n",
            "49/49 [==============================] - 0s 2ms/step - loss: 0.0096 - accuracy: 0.8316\n",
            "Epoch 57/100\n",
            "49/49 [==============================] - 0s 3ms/step - loss: 0.0092 - accuracy: 0.8334\n",
            "Epoch 58/100\n",
            "49/49 [==============================] - 0s 3ms/step - loss: 0.0087 - accuracy: 0.8300\n",
            "Epoch 59/100\n",
            "49/49 [==============================] - 0s 3ms/step - loss: 0.0084 - accuracy: 0.8332\n",
            "Epoch 60/100\n",
            "49/49 [==============================] - 0s 2ms/step - loss: 0.0079 - accuracy: 0.8342\n",
            "Epoch 61/100\n",
            "49/49 [==============================] - 0s 2ms/step - loss: 0.0076 - accuracy: 0.8324\n",
            "Epoch 62/100\n",
            "49/49 [==============================] - 0s 3ms/step - loss: 0.0072 - accuracy: 0.8327\n",
            "Epoch 63/100\n",
            "49/49 [==============================] - 0s 3ms/step - loss: 0.0069 - accuracy: 0.8340\n",
            "Epoch 64/100\n",
            "49/49 [==============================] - 0s 2ms/step - loss: 0.0066 - accuracy: 0.8332\n",
            "Epoch 65/100\n",
            "49/49 [==============================] - 0s 3ms/step - loss: 0.0063 - accuracy: 0.8329\n",
            "Epoch 66/100\n",
            "49/49 [==============================] - 0s 3ms/step - loss: 0.0059 - accuracy: 0.8353\n",
            "Epoch 67/100\n",
            "49/49 [==============================] - 0s 3ms/step - loss: 0.0056 - accuracy: 0.8327\n",
            "Epoch 68/100\n",
            "49/49 [==============================] - 0s 3ms/step - loss: 0.0053 - accuracy: 0.8323\n",
            "Epoch 69/100\n",
            "49/49 [==============================] - 0s 3ms/step - loss: 0.0051 - accuracy: 0.8323\n",
            "Epoch 70/100\n",
            "49/49 [==============================] - 0s 2ms/step - loss: 0.0049 - accuracy: 0.8339\n",
            "Epoch 71/100\n",
            "49/49 [==============================] - 0s 3ms/step - loss: 0.0046 - accuracy: 0.8363\n",
            "Epoch 72/100\n",
            "49/49 [==============================] - 0s 2ms/step - loss: 0.0044 - accuracy: 0.8334\n",
            "Epoch 73/100\n",
            "49/49 [==============================] - 0s 3ms/step - loss: 0.0042 - accuracy: 0.8340\n",
            "Epoch 74/100\n",
            "49/49 [==============================] - 0s 2ms/step - loss: 0.0040 - accuracy: 0.8327\n",
            "Epoch 75/100\n",
            "49/49 [==============================] - 0s 3ms/step - loss: 0.0038 - accuracy: 0.8327\n",
            "Epoch 76/100\n",
            "49/49 [==============================] - 0s 2ms/step - loss: 0.0036 - accuracy: 0.8295\n",
            "Epoch 77/100\n",
            "49/49 [==============================] - 0s 3ms/step - loss: 0.0034 - accuracy: 0.8323\n",
            "Epoch 78/100\n",
            "49/49 [==============================] - 0s 2ms/step - loss: 0.0032 - accuracy: 0.8340\n",
            "Epoch 79/100\n",
            "49/49 [==============================] - 0s 3ms/step - loss: 0.0031 - accuracy: 0.8305\n",
            "Epoch 80/100\n",
            "49/49 [==============================] - 0s 2ms/step - loss: 0.0029 - accuracy: 0.8347\n",
            "Epoch 81/100\n",
            "49/49 [==============================] - 0s 3ms/step - loss: 0.0028 - accuracy: 0.8326\n",
            "Epoch 82/100\n",
            "49/49 [==============================] - 0s 3ms/step - loss: 0.0027 - accuracy: 0.8332\n",
            "Epoch 83/100\n",
            "49/49 [==============================] - 0s 3ms/step - loss: 0.0025 - accuracy: 0.8334\n",
            "Epoch 84/100\n",
            "49/49 [==============================] - 0s 2ms/step - loss: 0.0024 - accuracy: 0.8340\n",
            "Epoch 85/100\n",
            "49/49 [==============================] - 0s 3ms/step - loss: 0.0023 - accuracy: 0.8321\n",
            "Epoch 86/100\n",
            "49/49 [==============================] - 0s 3ms/step - loss: 0.0022 - accuracy: 0.8323\n",
            "Epoch 87/100\n",
            "49/49 [==============================] - 0s 2ms/step - loss: 0.0021 - accuracy: 0.8344\n",
            "Epoch 88/100\n",
            "49/49 [==============================] - 0s 3ms/step - loss: 0.0020 - accuracy: 0.8352\n",
            "Epoch 89/100\n",
            "49/49 [==============================] - 0s 2ms/step - loss: 0.0019 - accuracy: 0.8308\n",
            "Epoch 90/100\n",
            "49/49 [==============================] - 0s 2ms/step - loss: 0.0018 - accuracy: 0.8323\n",
            "Epoch 91/100\n",
            "49/49 [==============================] - 0s 3ms/step - loss: 0.0017 - accuracy: 0.8321\n",
            "Epoch 92/100\n",
            "49/49 [==============================] - 0s 3ms/step - loss: 0.0016 - accuracy: 0.8324\n",
            "Epoch 93/100\n",
            "49/49 [==============================] - 0s 3ms/step - loss: 0.0016 - accuracy: 0.8321\n",
            "Epoch 94/100\n",
            "49/49 [==============================] - 0s 3ms/step - loss: 0.0015 - accuracy: 0.8324\n",
            "Epoch 95/100\n",
            "49/49 [==============================] - 0s 3ms/step - loss: 0.0014 - accuracy: 0.8348\n",
            "Epoch 96/100\n",
            "49/49 [==============================] - 0s 3ms/step - loss: 0.0014 - accuracy: 0.8310\n",
            "Epoch 97/100\n",
            "49/49 [==============================] - 0s 2ms/step - loss: 0.0013 - accuracy: 0.8332\n",
            "Epoch 98/100\n",
            "49/49 [==============================] - 0s 2ms/step - loss: 0.0012 - accuracy: 0.8305\n",
            "Epoch 99/100\n",
            "49/49 [==============================] - 0s 2ms/step - loss: 0.0012 - accuracy: 0.8329\n",
            "Epoch 100/100\n",
            "49/49 [==============================] - 0s 3ms/step - loss: 0.0011 - accuracy: 0.8314\n"
          ]
        },
        {
          "data": {
            "text/plain": [
              "<keras.callbacks.History at 0x1c6df35b370>"
            ]
          },
          "execution_count": 83,
          "metadata": {},
          "output_type": "execute_result"
        }
      ],
      "source": [
        "use_model.fit(X_train_use_embedding, y_train_b, batch_size = 128, epochs=50)"
      ]
    },
    {
      "cell_type": "code",
      "execution_count": null,
      "metadata": {},
      "outputs": [
        {
          "name": "stdout",
          "output_type": "stream",
          "text": [
            "4/4 [==============================] - 0s 3ms/step\n"
          ]
        }
      ],
      "source": [
        "y_pred = use_model.predict(X_train_use_embedding[:100])\n",
        "threshold_test_use = tm_test_threshold(y_train_b[:100], y_pred)  "
      ]
    },
    {
      "cell_type": "code",
      "execution_count": null,
      "metadata": {},
      "outputs": [
        {
          "data": {
            "image/png": "[encoded data removed]",
            "text/plain": [
              "<Figure size 640x480 with 1 Axes>"
            ]
          },
          "metadata": {},
          "output_type": "display_data"
        }
      ],
      "source": [
        "tm_plot_threshold_test(threshold_test_use)"
      ]
    },
    {
      "cell_type": "code",
      "execution_count": null,
      "metadata": {},
      "outputs": [
        {
          "data": {
            "text/plain": [
              "0.09999999999999346"
            ]
          },
          "execution_count": 96,
          "metadata": {},
          "output_type": "execute_result"
        }
      ],
      "source": [
        "max_config = threshold_test_use.query('precision == precision.max()')\n",
        "t = max_config[\"threshold\"]\n",
        "best_t =  t.values[0]\n",
        "best_t"
      ]
    },
    {
      "cell_type": "code",
      "execution_count": null,
      "metadata": {},
      "outputs": [
        {
          "name": "stdout",
          "output_type": "stream",
          "text": [
            "29/49 [================>.............] - ETA: 0s"
          ]
        },
        {
          "name": "stdout",
          "output_type": "stream",
          "text": [
            "49/49 [==============================] - 0s 2ms/step\n"
          ]
        }
      ],
      "source": [
        "y_pred_use = use_model.predict(X_test_use_embedding)\n",
        "y_pred_use = (y_pred_use > best_t).astype(np.float32)\n",
        "precision_use      = average_precision_score(y_test_b, y_pred_use, average='micro')\n",
        "jaccard_score_use = jaccard_score(y_test_b, y_pred_use, average='micro')\n"
      ]
    },
    {
      "cell_type": "code",
      "execution_count": null,
      "metadata": {},
      "outputs": [],
      "source": [
        "plot_confusion_matrix(y_test_b, y_pred_use, label_list)"
      ]
    },
    {
      "attachments": {},
      "cell_type": "markdown",
      "metadata": {},
      "source": [
        "# Evaluation "
      ]
    },
    {
      "cell_type": "code",
      "execution_count": null,
      "metadata": {},
      "outputs": [],
      "source": [
        "avg_precision_scores = [precision_w2v, precision_use,]\n",
        "jaccard_scores = [jaccard_score_w2v, jaccard_score_use]\n",
        "result = pd.DataFrame(\n",
        "    {\n",
        "        'average_precision_scores' : avg_precision_scores,\n",
        "        'jaccard_scores' : jaccard_scores\n",
        "    }, index = ['Word2Vec','USE']\n",
        ")\n",
        "result.to_csv(f\"{output_dir}result_supervised2.csv\")"
      ]
    },
    {
      "cell_type": "code",
      "execution_count": null,
      "metadata": {},
      "outputs": [
        {
          "data": {
            "text/html": [
              "<div>\n",
              "<style scoped>\n",
              "    .dataframe tbody tr th:only-of-type {\n",
              "        vertical-align: middle;\n",
              "    }\n",
              "\n",
              "    .dataframe tbody tr th {\n",
              "        vertical-align: top;\n",
              "    }\n",
              "\n",
              "    .dataframe thead th {\n",
              "        text-align: right;\n",
              "    }\n",
              "</style>\n",
              "<table border=\"1\" class=\"dataframe\">\n",
              "  <thead>\n",
              "    <tr style=\"text-align: right;\">\n",
              "      <th></th>\n",
              "      <th>average_precision_scores</th>\n",
              "      <th>jaccard_scores</th>\n",
              "    </tr>\n",
              "  </thead>\n",
              "  <tbody>\n",
              "    <tr>\n",
              "      <th>Word2Vec</th>\n",
              "      <td>0.084533</td>\n",
              "      <td>0.111220</td>\n",
              "    </tr>\n",
              "    <tr>\n",
              "      <th>USE</th>\n",
              "      <td>0.471676</td>\n",
              "      <td>0.508555</td>\n",
              "    </tr>\n",
              "  </tbody>\n",
              "</table>\n",
              "</div>"
            ],
            "text/plain": [
              "          average_precision_scores  jaccard_scores\n",
              "Word2Vec                  0.084533        0.111220\n",
              "USE                       0.471676        0.508555"
            ]
          },
          "execution_count": 121,
          "metadata": {},
          "output_type": "execute_result"
        }
      ],
      "source": [
        "result"
      ]
    }
  ],
  "metadata": {
    "colab": {
      "authorship_tag": "ABX9TyMRwjeuBeVraeS78MTKQby9",
      "include_colab_link": true,
      "provenance": []
    },
    "kernelspec": {
      "display_name": "Python 3",
      "name": "python3"
    },
    "language_info": {
      "codemirror_mode": {
        "name": "ipython",
        "version": 3
      },
      "file_extension": ".py",
      "mimetype": "text/x-python",
      "name": "python",
      "nbconvert_exporter": "python",
      "pygments_lexer": "ipython3",
      "version": "3.8.10"
    }
  },
  "nbformat": 4,
  "nbformat_minor": 0
}
