{
  "cells": [
    {
      "attachments": {},
      "cell_type": "markdown",
      "metadata": {
        "id": "tqsfaQzI6rx8"
      },
      "source": [
        "# Supervised Topic modelling :"
      ]
    },
    {
      "attachments": {},
      "cell_type": "markdown",
      "metadata": {
        "id": "saDtp8aE6ryA"
      },
      "source": [
        "\n",
        "This is a multi-class classification problem. \n",
        "\n",
        "- input data : the post (title and content)\n",
        "- labels : associated tags  \n",
        "\n",
        "We downloaded tags that correspond to each stackOverflow post, so we can train supervised model to handle this.\n",
        "The number of classes outputs is the number of different label present in the label corpus.\n",
        "\n",
        "**Preprocessing** :\n",
        "\n",
        "\n",
        "To avoid the curse of dimensionality issue (as our word corpus is very large) we will use prior LSA and word-embedding representation technique.\n",
        "\n",
        "\n",
        "**Model Benchmark**\n",
        "\n",
        "- Logistic regression : one-vs-rest\n",
        "- SVM \n",
        "- Random forest \n",
        "- NN with prior embeddings : in the second supervised notebook\n",
        "with three different prior embeddings : Word2VEc, BERT and USE\n",
        "\n",
        "All the models will be compared and selected upon the **average_precision_scores** and\t**jaccard_scores**."
      ]
    },
    {
      "cell_type": "code",
      "execution_count": 1,
      "metadata": {},
      "outputs": [],
      "source": [
        "%load_ext autoreload\n",
        "%autoreload 2"
      ]
    },
    {
      "cell_type": "code",
      "execution_count": 2,
      "metadata": {},
      "outputs": [],
      "source": [
        "from  tm_common import * \n",
        "IN_COLAB, output_dir = tm_get_working_config()"
      ]
    },
    {
      "cell_type": "code",
      "execution_count": 3,
      "metadata": {
        "id": "x4vvvzRm6ycU"
      },
      "outputs": [],
      "source": [
        "import os\n",
        "import numpy as np\n",
        "import pandas as pd\n",
        "import matplotlib.pyplot as plt\n",
        "\n",
        "# word count\n",
        "import gensim\n",
        "import gensim.corpora as corpora\n",
        "from gensim.models import Word2Vec\n",
        "\n",
        "from scipy.sparse import csr_matrix\n",
        "from sklearn.preprocessing import MultiLabelBinarizer\n",
        "from sklearn.multioutput import MultiOutputClassifier\n",
        "from sklearn.decomposition import TruncatedSVD\n",
        "\n",
        "from sklearn.linear_model import LogisticRegression\n",
        "from sklearn import svm\n",
        "from sklearn.dummy import DummyClassifier\n",
        "from sklearn.ensemble import RandomForestRegressor\n",
        "\n",
        "from sklearn.model_selection import GridSearchCV\n",
        "from sklearn.model_selection import StratifiedKFold\n",
        "from sklearn.model_selection import train_test_split\n",
        "from sklearn.metrics import multilabel_confusion_matrix, ConfusionMatrixDisplay\n",
        "from sklearn.metrics import classification_report\n",
        "from sklearn.metrics import jaccard_score, average_precision_score\n"
      ]
    },
    {
      "cell_type": "code",
      "execution_count": 4,
      "metadata": {
        "id": "3q1y7bCM632E"
      },
      "outputs": [],
      "source": [
        "sto_corpus = np.load(f\"{output_dir}corpus.npy\",allow_pickle=True)\n",
        "sto_corpus_tags = np.load(f\"{output_dir}corpus_tags.npy\",allow_pickle=True)\n",
        "\n",
        "sto_titles = np.load(f\"{output_dir}bag_of_words_titles.npy\",allow_pickle=True)\n",
        "sto_body = np.load(f\"{output_dir}bag_of_words_body.npy\",allow_pickle=True)"
      ]
    },
    {
      "cell_type": "code",
      "execution_count": 5,
      "metadata": {
        "id": "Nc0AXUZh_Oz3"
      },
      "outputs": [],
      "source": [
        "# NB_DOCS = 5000\n",
        "# sto_corpus = sto_corpus[:NB_DOCS]\n",
        "# sto_titles = sto_titles[:NB_DOCS]\n",
        "# sto_body = sto_body[:NB_DOCS]\n",
        "# sto_corpus_tags = sto_corpus_tags[:NB_DOCS]\n",
        "\n",
        "sto_corpus = sto_corpus\n",
        "sto_titles = sto_titles\n",
        "sto_body = sto_body\n",
        "sto_corpus_tags = sto_corpus_tags"
      ]
    },
    {
      "attachments": {},
      "cell_type": "markdown",
      "metadata": {
        "id": "uUEY4Ay7CmqJ"
      },
      "source": [
        "## Number of classes\n",
        "I want to focus on main tags, therefore thanks to the graphic above I selected **30 tags**.\n"
      ]
    },
    {
      "cell_type": "code",
      "execution_count": 6,
      "metadata": {
        "colab": {
          "base_uri": "https://localhost:8080/"
        },
        "id": "SuYLdM1dBdlw",
        "outputId": "11c9eadb-c915-4d97-f740-cf350cf1d852"
      },
      "outputs": [
        {
          "data": {
            "text/plain": [
              "c#                4823\n",
              "java              4696\n",
              "c++               3957\n",
              "javascript        3847\n",
              "python            3337\n",
              "android           2667\n",
              "ios               2388\n",
              ".net              2007\n",
              "php               1787\n",
              "c                 1738\n",
              "html              1668\n",
              "jquery            1442\n",
              "performance       1299\n",
              "css               1148\n",
              "objective-c       1036\n",
              "c++11              971\n",
              "asp.net            919\n",
              "node.js            915\n",
              "sql                883\n",
              "algorithm          872\n",
              "linux              868\n",
              "spring             865\n",
              "multithreading     780\n",
              "iphone             768\n",
              "swift              758\n",
              "mysql              742\n",
              "windows            675\n",
              "json               666\n",
              "arrays             659\n",
              "xcode              586\n",
              "Name: count, dtype: int64"
            ]
          },
          "execution_count": 6,
          "metadata": {},
          "output_type": "execute_result"
        }
      ],
      "source": [
        "tags = []\n",
        "for text_tags in sto_corpus_tags:\n",
        "    tags.extend(iter(text_tags))\n",
        "    \n",
        "tags_series = pd.Series(tags)\n",
        "\n",
        "labels = tags_series.value_counts().head(30)\n",
        "labels"
      ]
    },
    {
      "cell_type": "code",
      "execution_count": 7,
      "metadata": {
        "id": "X9sq_3Kpc5ZB"
      },
      "outputs": [],
      "source": [
        "# each label is associated to an id between 0 and 29 by a dictionary\n",
        "label_list = np.array(labels.index)\n",
        "d = dict(zip(label_list, range(0,len(label_list))))"
      ]
    },
    {
      "attachments": {},
      "cell_type": "markdown",
      "metadata": {
        "id": "pig1TUbBD3Bl"
      },
      "source": [
        "# The Multi-Label classification :\n",
        "\n",
        "Multi-label classification is different form Multi-label classification.  In multi-class classification, each instance belong to a specific label, in multi-class classification, a instance may belong to 0 or multiple class.\n",
        "\n",
        "Here, each instance of our dataset has multiple labels. The prediction is therefore mutually non-exclusive.\n",
        "We need a model that can predict zero or more class."
      ]
    },
    {
      "cell_type": "code",
      "execution_count": 8,
      "metadata": {
        "id": "Ldff2StLrPvK"
      },
      "outputs": [],
      "source": [
        "# multi-label classification\n",
        "def retrieve_tag_in_selected_list(tags_list, selection_list):\n",
        "  tags_list_selection = []\n",
        "  for tags in tags_list:\n",
        "    tmp = [ d[tag] for tag in tags if tag in selection_list  ]\n",
        "    tags_list_selection.append( tmp )\n",
        "  return tags_list_selection\n",
        "\n",
        "Y_n = retrieve_tag_in_selected_list(sto_corpus_tags, labels)\n"
      ]
    },
    {
      "cell_type": "code",
      "execution_count": 9,
      "metadata": {
        "colab": {
          "base_uri": "https://localhost:8080/"
        },
        "id": "GT90EmILusRF",
        "outputId": "1221ead1-f107-41cb-85c6-a3cb9531b79e"
      },
      "outputs": [
        {
          "data": {
            "text/plain": [
              "[[4, 19], [9, 28], [3, 8], [1], [3, 8], [6], [0, 7, 2], [26], [2, 9], [18]]"
            ]
          },
          "execution_count": 9,
          "metadata": {},
          "output_type": "execute_result"
        }
      ],
      "source": [
        "Y_n[:10]"
      ]
    },
    {
      "attachments": {},
      "cell_type": "markdown",
      "metadata": {
        "id": "x-hHhaWB6ryG"
      },
      "source": [
        "## X_train, X_test, Y_train, Y_test slip\n",
        "\n",
        "This is done before tfidf to avoid data leakage"
      ]
    },
    {
      "cell_type": "code",
      "execution_count": 10,
      "metadata": {
        "id": "K-eOBezCSUCE"
      },
      "outputs": [],
      "source": [
        "(\n",
        "    X_corpus_train,\n",
        "    X_corpus_test,\n",
        "    X_title_train,\n",
        "    X_title_test,\n",
        "    X_body_train,\n",
        "    X_body_test,\n",
        "    y_train,\n",
        "    y_test,\n",
        ") = train_test_split(sto_corpus, sto_titles, sto_body, Y_n, test_size=0.2, random_state=1)"
      ]
    },
    {
      "cell_type": "code",
      "execution_count": 11,
      "metadata": {
        "id": "j0Z_xaUlPbVZ"
      },
      "outputs": [
        {
          "name": "stderr",
          "output_type": "stream",
          "text": [
            "c:\\dev\\topic_modelling\\lib\\site-packages\\numpy\\lib\\npyio.py:521: VisibleDeprecationWarning: Creating an ndarray from ragged nested sequences (which is a list-or-tuple of lists-or-tuples-or ndarrays with different lengths or shapes) is deprecated. If you meant to do this, you must specify 'dtype=object' when creating the ndarray.\n",
            "  arr = np.asanyarray(arr)\n"
          ]
        }
      ],
      "source": [
        "np.save(f\"{output_dir}X_corpus_train.npy\",X_corpus_train,   allow_pickle=True)\n",
        "np.save(f\"{output_dir}X_corpus_test.npy\", X_corpus_test,   allow_pickle=True)\n",
        "\n",
        "np.save(f\"{output_dir}X_title_train.npy\", X_title_train, allow_pickle=True)\n",
        "np.save(f\"{output_dir}X_title_test.npy\",  X_title_test, allow_pickle=True)\n",
        "\n",
        "np.save(f\"{output_dir}X_body_train.npy\",X_body_train,   allow_pickle=True)\n",
        "np.save(f\"{output_dir}X_body_test.npy\", X_body_test,   allow_pickle=True)\n",
        "\n",
        "np.save(f\"{output_dir}y_train.npy\",       y_train, allow_pickle=True)\n",
        "np.save(f\"{output_dir}y_test.npy\",        y_test,   allow_pickle=True)\n",
        "np.save(f\"{output_dir}label_list.npy\",    label_list,   allow_pickle=True)\n"
      ]
    },
    {
      "cell_type": "code",
      "execution_count": 12,
      "metadata": {},
      "outputs": [
        {
          "name": "stdout",
          "output_type": "stream",
          "text": [
            "24729 6182\n",
            "6183 1545\n"
          ]
        }
      ],
      "source": [
        "size_train = len(X_body_train) // 4 \n",
        "size_test = len(X_corpus_test) // 4 \n",
        "print(len(X_body_train) , size_train)\n",
        "print(len(X_corpus_test) , size_test)"
      ]
    },
    {
      "cell_type": "code",
      "execution_count": 13,
      "metadata": {},
      "outputs": [],
      "source": [
        "size_train = len(X_body_train) // 4 \n",
        "size_test = len(X_corpus_test) // 4 \n",
        "X_title_train, X_body_train, X_corpus_train, y_train = X_title_train[:size_train], X_body_train[:size_train], X_corpus_train[:size_train] , y_train[:size_train]\n",
        "X_title_test, X_corpus_test, X_body_test, y_test = X_title_test[:size_test], X_corpus_test[:size_test], X_body_test[:size_test], y_test[:size_test]\n"
      ]
    },
    {
      "cell_type": "code",
      "execution_count": 14,
      "metadata": {
        "colab": {
          "base_uri": "https://localhost:8080/"
        },
        "id": "1SxvbvPbbY9y",
        "outputId": "856f556e-aa90-423f-8dcb-82eb947970f2"
      },
      "outputs": [
        {
          "name": "stdout",
          "output_type": "stream",
          "text": [
            "6182\n",
            "6182\n",
            "1545\n",
            "1545\n"
          ]
        }
      ],
      "source": [
        "print( len(X_title_train) )\n",
        "print( len(X_corpus_train) )\n",
        "print( len(X_title_test) )\n",
        "print( len(y_test)       )"
      ]
    },
    {
      "cell_type": "code",
      "execution_count": 15,
      "metadata": {
        "colab": {
          "base_uri": "https://localhost:8080/"
        },
        "id": "4vCJDhHWuwsd",
        "outputId": "c1a8025d-a0ae-43cf-93e3-18ce0cea170f"
      },
      "outputs": [
        {
          "data": {
            "text/plain": [
              "[[10, 13], [13], [6, 23], [9], [4]]"
            ]
          },
          "execution_count": 15,
          "metadata": {},
          "output_type": "execute_result"
        }
      ],
      "source": [
        "y_test[:5]"
      ]
    },
    {
      "attachments": {},
      "cell_type": "markdown",
      "metadata": {},
      "source": [
        "# Label preprocessing : \n"
      ]
    },
    {
      "cell_type": "code",
      "execution_count": 16,
      "metadata": {},
      "outputs": [],
      "source": [
        "mlb = MultiLabelBinarizer()\n",
        "y_train_b = mlb.fit_transform(y_train)\n",
        "y_test_b = mlb.transform(y_test)"
      ]
    },
    {
      "attachments": {},
      "cell_type": "markdown",
      "metadata": {
        "id": "NwNizfp8T7mG"
      },
      "source": [
        "[ True Negative , false positive] ,\n",
        "[False negative, true positivve ]"
      ]
    },
    {
      "attachments": {},
      "cell_type": "markdown",
      "metadata": {},
      "source": [
        "## Handling body and title :\n",
        "- simple concatenation \n",
        "- only body \n",
        "- only title\n",
        "- more weights apply to title"
      ]
    },
    {
      "cell_type": "code",
      "execution_count": 17,
      "metadata": {},
      "outputs": [],
      "source": [
        "# simple concatenation\n",
        "X_train = [\n",
        "    np.append(X_title_train[i], X_body_train[i]) for i in range(len(X_title_train))\n",
        "]\n",
        "X_test = [np.append(X_title_test[i], X_body_test[i]) for i in range(len(X_title_test))]\n",
        "\n",
        "X_train_biased_towards_title = [\n",
        "    np.concatenate((np.repeat(X_title_train[i], 5), X_body_train[i]))\n",
        "    for i in range(len(X_title_train))\n",
        "]\n",
        "X_test_biased_towards_title = [\n",
        "    np.concatenate((np.repeat(X_title_train[i], 5), X_body_test[i]))\n",
        "    for i in range(len(X_title_test))\n",
        "]"
      ]
    },
    {
      "attachments": {},
      "cell_type": "markdown",
      "metadata": {},
      "source": [
        "# Dummy classifier "
      ]
    },
    {
      "cell_type": "code",
      "execution_count": 18,
      "metadata": {},
      "outputs": [],
      "source": [
        "dummy_clf = MultiOutputClassifier(DummyClassifier(strategy=\"most_frequent\"))\n",
        "dummy_clf.fit(X_train, y_train_b)\n",
        "y_pred = dummy_clf.predict(X_test) \n",
        "precision_dummy = average_precision_score(y_test_b, y_pred, average=\"micro\")\n",
        "jaccard_score_dummy = jaccard_score(y_test_b, y_pred, average=\"micro\")"
      ]
    },
    {
      "attachments": {},
      "cell_type": "markdown",
      "metadata": {
        "id": "_WG8aqmVjf1B"
      },
      "source": [
        "# Logistic regression : One VS Rest"
      ]
    },
    {
      "cell_type": "code",
      "execution_count": 19,
      "metadata": {
        "colab": {
          "base_uri": "https://localhost:8080/",
          "height": 118
        },
        "id": "gs6MknwVjkFL",
        "outputId": "df19f66c-bc01-43ac-9558-defcdef77818"
      },
      "outputs": [],
      "source": [
        "def logistic_reg_train(X_train_svd, y_train_b):\n",
        "    model = MultiOutputClassifier(LogisticRegression(multi_class=\"ovr\"))\n",
        "    model.fit(X_train_svd, y_train_b)\n",
        "    return model\n",
        "\n",
        "\n",
        "def plot_counf_matrix(y_test, y_pred, NB_LABEL=4):\n",
        "    fig, axs = plt.subplots(1, NB_LABEL, figsize=(NB_LABEL * 5, 5))\n",
        "    for i in range(NB_LABEL):\n",
        "        rdm_label = i * 5\n",
        "        cm = multilabel_confusion_matrix(y_test, y_pred)[rdm_label]\n",
        "\n",
        "        display_labels = [\"others\", label_list[rdm_label]]\n",
        "        disp = ConfusionMatrixDisplay(\n",
        "            confusion_matrix=cm, display_labels=display_labels\n",
        "        )\n",
        "        disp.plot(ax=axs[i], colorbar=False)\n",
        "\n",
        "    plt.show()"
      ]
    },
    {
      "attachments": {},
      "cell_type": "markdown",
      "metadata": {
        "id": "c6kEhDC5saVM"
      },
      "source": [
        "## Evaluation :    \n",
        "average precision : summarizes a precision-recall curve as the weighted mean of precisions achieved at each threshold\n",
        "jaccard similarity coefficient  : size of intersection divided by the size of the union\n",
        "\n",
        "micro : to calculate the metric globally as it is multi-label case"
      ]
    },
    {
      "cell_type": "code",
      "execution_count": 20,
      "metadata": {},
      "outputs": [],
      "source": [
        "def get_logistic_score(X_train, X_test, return_yhat=False):\n",
        "    X_svd_train, X_svd_test = tfidf_lsa_preprocessing(X_train, X_test)\n",
        "    model = logistic_reg_train(X_svd_train, y_train_b)\n",
        "    yhat = model.predict(X_svd_test)\n",
        "    precision_logistic = average_precision_score(y_test_b, yhat, average=\"micro\")\n",
        "    jaccard_score_logistic = jaccard_score(y_test_b, yhat, average=\"micro\")\n",
        "    if return_yhat:\n",
        "        return precision_logistic, jaccard_score_logistic, yhat\n",
        "    return precision_logistic, jaccard_score_logistic\n",
        "\n",
        "\n",
        "precision_logistic_body_only, jaccard_score_logistic_body_only = get_logistic_score(\n",
        "    X_body_train, X_body_test\n",
        ")\n",
        "precision_logistic_title_only, jaccard_score_logistic_title_only = get_logistic_score(\n",
        "    X_title_train, X_title_test\n",
        ")\n",
        "precision_logistic_concatenation, jaccard_score_logistic_concatenation= get_logistic_score(X_train, X_test)"
      ]
    },
    {
      "cell_type": "code",
      "execution_count": 21,
      "metadata": {},
      "outputs": [],
      "source": [
        "precision_logistic_biased, jaccard_score_logistic_biased = get_logistic_score(X_train_biased_towards_title, X_test_biased_towards_title)"
      ]
    },
    {
      "cell_type": "code",
      "execution_count": 22,
      "metadata": {},
      "outputs": [
        {
          "data": {
            "text/html": [
              "<div>\n",
              "<style scoped>\n",
              "    .dataframe tbody tr th:only-of-type {\n",
              "        vertical-align: middle;\n",
              "    }\n",
              "\n",
              "    .dataframe tbody tr th {\n",
              "        vertical-align: top;\n",
              "    }\n",
              "\n",
              "    .dataframe thead th {\n",
              "        text-align: right;\n",
              "    }\n",
              "</style>\n",
              "<table border=\"1\" class=\"dataframe\">\n",
              "  <thead>\n",
              "    <tr style=\"text-align: right;\">\n",
              "      <th></th>\n",
              "      <th>average_precision_scores</th>\n",
              "      <th>jaccard_scores</th>\n",
              "    </tr>\n",
              "  </thead>\n",
              "  <tbody>\n",
              "    <tr>\n",
              "      <th>logistic : body only</th>\n",
              "      <td>0.184476</td>\n",
              "      <td>0.159657</td>\n",
              "    </tr>\n",
              "    <tr>\n",
              "      <th>logistic : title only</th>\n",
              "      <td>0.156712</td>\n",
              "      <td>0.119161</td>\n",
              "    </tr>\n",
              "    <tr>\n",
              "      <th>logistic : concatenation</th>\n",
              "      <td>0.196039</td>\n",
              "      <td>0.170827</td>\n",
              "    </tr>\n",
              "    <tr>\n",
              "      <th>logistic : biased towards title</th>\n",
              "      <td>0.104996</td>\n",
              "      <td>0.079059</td>\n",
              "    </tr>\n",
              "  </tbody>\n",
              "</table>\n",
              "</div>"
            ],
            "text/plain": [
              "                                 average_precision_scores  jaccard_scores\n",
              "logistic : body only                             0.184476        0.159657\n",
              "logistic : title only                            0.156712        0.119161\n",
              "logistic : concatenation                         0.196039        0.170827\n",
              "logistic : biased towards title                  0.104996        0.079059"
            ]
          },
          "execution_count": 22,
          "metadata": {},
          "output_type": "execute_result"
        }
      ],
      "source": [
        "avg_precision_scores = [\n",
        "    precision_logistic_body_only,\n",
        "    precision_logistic_title_only,\n",
        "    precision_logistic_concatenation,\n",
        "    precision_logistic_biased,\n",
        "\n",
        "]\n",
        "jaccard_scores = [\n",
        "    jaccard_score_logistic_body_only,\n",
        "    jaccard_score_logistic_title_only,\n",
        "    jaccard_score_logistic_concatenation,\n",
        "    jaccard_score_logistic_biased,\n",
        "]\n",
        "\n",
        "result = pd.DataFrame(\n",
        "    {\n",
        "        \"average_precision_scores\": avg_precision_scores,\n",
        "        \"jaccard_scores\": jaccard_scores,\n",
        "    },\n",
        "    index=[\n",
        "        \"logistic : body only\",\n",
        "        \"logistic : title only\",\n",
        "        \"logistic : concatenation\",\n",
        "        \"logistic : biased towards title\",\n",
        "    ],\n",
        ")\n",
        "result"
      ]
    },
    {
      "attachments": {},
      "cell_type": "markdown",
      "metadata": {},
      "source": [
        "Concatenation of body and title and titles only achieve better scores than body only and biased input. This might be explained as logistic regression is a simple model and titles carry less information and might be more separable than concatenation. "
      ]
    },
    {
      "cell_type": "code",
      "execution_count": 23,
      "metadata": {
        "colab": {
          "base_uri": "https://localhost:8080/",
          "height": 221
        },
        "id": "c8_kYHKxj2Zc",
        "outputId": "8111ed91-e8c0-4d14-cd8e-cc80b73abf26"
      },
      "outputs": [
        {
          "data": {
            "image/png": "[encoded data removed]",
            "text/plain": [
              "<Figure size 2000x500 with 4 Axes>"
            ]
          },
          "metadata": {},
          "output_type": "display_data"
        }
      ],
      "source": [
        "_, _, yhat=  get_logistic_score( X_title_train, X_title_test, return_yhat=True)\n",
        "plot_counf_matrix(y_test_b, yhat)"
      ]
    },
    {
      "cell_type": "code",
      "execution_count": 25,
      "metadata": {},
      "outputs": [
        {
          "name": "stdout",
          "output_type": "stream",
          "text": [
            "                precision    recall  f1-score   support\n",
            "\n",
            "            c#       0.79      0.11      0.19       251\n",
            "          java       0.95      0.32      0.48       236\n",
            "           c++       0.65      0.07      0.13       176\n",
            "    javascript       0.92      0.12      0.21       205\n",
            "        python       1.00      0.26      0.41       174\n",
            "       android       0.96      0.38      0.55       134\n",
            "           ios       0.86      0.05      0.10       110\n",
            "          .net       1.00      0.02      0.05       123\n",
            "           php       0.75      0.04      0.07        79\n",
            "             c       0.00      0.00      0.00        86\n",
            "          html       1.00      0.02      0.04        98\n",
            "        jquery       1.00      0.15      0.26        66\n",
            "   performance       0.86      0.08      0.14        77\n",
            "           css       0.00      0.00      0.00        68\n",
            "   objective-c       0.00      0.00      0.00        39\n",
            "         c++11       1.00      0.02      0.04        46\n",
            "       asp.net       1.00      0.03      0.06        35\n",
            "       node.js       1.00      0.02      0.04        51\n",
            "           sql       0.00      0.00      0.00        45\n",
            "     algorithm       0.50      0.03      0.05        37\n",
            "         linux       1.00      0.02      0.05        42\n",
            "        spring       0.83      0.24      0.38        41\n",
            "multithreading       0.00      0.00      0.00        38\n",
            "        iphone       0.00      0.00      0.00        30\n",
            "         swift       1.00      0.11      0.21        35\n",
            "         mysql       1.00      0.11      0.20        45\n",
            "       windows       0.33      0.03      0.06        31\n",
            "          json       1.00      0.15      0.26        40\n",
            "        arrays       1.00      0.03      0.06        31\n",
            "         xcode       1.00      0.12      0.21        26\n",
            "\n",
            "     micro avg       0.91      0.12      0.21      2495\n",
            "     macro avg       0.71      0.08      0.14      2495\n",
            "  weighted avg       0.78      0.12      0.20      2495\n",
            "   samples avg       0.17      0.13      0.14      2495\n",
            "\n"
          ]
        },
        {
          "name": "stderr",
          "output_type": "stream",
          "text": [
            "c:\\dev\\topic_modelling\\lib\\site-packages\\sklearn\\metrics\\_classification.py:1344: UndefinedMetricWarning: Precision and F-score are ill-defined and being set to 0.0 in labels with no predicted samples. Use `zero_division` parameter to control this behavior.\n",
            "  _warn_prf(average, modifier, msg_start, len(result))\n",
            "c:\\dev\\topic_modelling\\lib\\site-packages\\sklearn\\metrics\\_classification.py:1344: UndefinedMetricWarning: Precision and F-score are ill-defined and being set to 0.0 in samples with no predicted labels. Use `zero_division` parameter to control this behavior.\n",
            "  _warn_prf(average, modifier, msg_start, len(result))\n"
          ]
        }
      ],
      "source": [
        "print(classification_report(y_test_b, yhat, target_names=label_list, digits=2))"
      ]
    },
    {
      "attachments": {},
      "cell_type": "markdown",
      "metadata": {
        "id": "KJNjNJsHeX4f"
      },
      "source": [
        "## SVM : Support Vector Classification (SVC) one vs one"
      ]
    },
    {
      "cell_type": "code",
      "execution_count": 26,
      "metadata": {},
      "outputs": [],
      "source": [
        "# test title only at input\n",
        "def get_svm_score(X_train, X_test):\n",
        "    X_svd_train, X_svd_test = tfidf_lsa_preprocessing(X_train, X_test)\n",
        "    regressor = MultiOutputClassifier(\n",
        "        svm.SVC(decision_function_shape=\"ovo\", kernel=\"rbf\")\n",
        "    )\n",
        "    regressor.fit(X_svd_train, y_train_b)\n",
        "    y_pred = regressor.predict(X_svd_test)\n",
        "    precision_svm = average_precision_score(y_test_b, y_pred, average=\"micro\")\n",
        "    jaccard_score_svm = jaccard_score(y_test_b, y_pred, average=\"micro\")\n",
        "\n",
        "    return precision_svm, jaccard_score_svm, y_pred\n",
        "\n",
        "\n",
        "precision_svm_title_only, jaccard_score_svm_title_only, y_pre_title_only = get_svm_score(X_title_train, X_title_test)"
      ]
    },
    {
      "cell_type": "code",
      "execution_count": 27,
      "metadata": {
        "colab": {
          "base_uri": "https://localhost:8080/",
          "height": 221
        },
        "id": "8ftE3iEIjcFG",
        "outputId": "98e1b63c-758b-4a71-e195-d5aeb2d0cb3b"
      },
      "outputs": [],
      "source": [
        "# test concatenation \n",
        "precision_svm, jaccard_score_svm, y_pred_concat = get_svm_score(X_train, X_test)"
      ]
    },
    {
      "cell_type": "code",
      "execution_count": null,
      "metadata": {},
      "outputs": [
        {
          "data": {
            "text/html": [
              "<div>\n",
              "<style scoped>\n",
              "    .dataframe tbody tr th:only-of-type {\n",
              "        vertical-align: middle;\n",
              "    }\n",
              "\n",
              "    .dataframe tbody tr th {\n",
              "        vertical-align: top;\n",
              "    }\n",
              "\n",
              "    .dataframe thead th {\n",
              "        text-align: right;\n",
              "    }\n",
              "</style>\n",
              "<table border=\"1\" class=\"dataframe\">\n",
              "  <thead>\n",
              "    <tr style=\"text-align: right;\">\n",
              "      <th></th>\n",
              "      <th>average_precision_scores</th>\n",
              "      <th>jaccard_scores</th>\n",
              "    </tr>\n",
              "  </thead>\n",
              "  <tbody>\n",
              "    <tr>\n",
              "      <th>SVM : title only</th>\n",
              "      <td>0.226412</td>\n",
              "      <td>0.202472</td>\n",
              "    </tr>\n",
              "    <tr>\n",
              "      <th>SVM : concatenation</th>\n",
              "      <td>0.373852</td>\n",
              "      <td>0.382614</td>\n",
              "    </tr>\n",
              "  </tbody>\n",
              "</table>\n",
              "</div>"
            ],
            "text/plain": [
              "                      average_precision_scores  jaccard_scores\n",
              "SVM : title only                      0.226412        0.202472\n",
              "SVM : concatenation                   0.373852        0.382614"
            ]
          },
          "execution_count": 35,
          "metadata": {},
          "output_type": "execute_result"
        }
      ],
      "source": [
        "avg_precision_scores = [precision_svm_title_only,precision_svm]\n",
        "jaccard_scores = [jaccard_score_svm_title_only,jaccard_score_svm ]\n",
        "result = pd.DataFrame(\n",
        "    {\n",
        "        \"average_precision_scores\": avg_precision_scores,\n",
        "        \"jaccard_scores\": jaccard_scores,\n",
        "    },\n",
        "    index=[\n",
        "        \"SVM : title only \",\n",
        "        \"SVM : concatenation \",\n",
        "    ],\n",
        ")\n",
        "result"
      ]
    },
    {
      "cell_type": "code",
      "execution_count": null,
      "metadata": {},
      "outputs": [
        {
          "data": {
            "image/png": "[encoded data removed]",
            "text/plain": [
              "<Figure size 2000x500 with 4 Axes>"
            ]
          },
          "metadata": {},
          "output_type": "display_data"
        }
      ],
      "source": [
        "plot_counf_matrix(y_test_b, y_pred_concat)"
      ]
    },
    {
      "cell_type": "code",
      "execution_count": 29,
      "metadata": {},
      "outputs": [
        {
          "name": "stdout",
          "output_type": "stream",
          "text": [
            "                precision    recall  f1-score   support\n",
            "\n",
            "            c#       0.82      0.65      0.72       251\n",
            "          java       0.87      0.68      0.76       236\n",
            "           c++       0.78      0.61      0.68       176\n",
            "    javascript       0.75      0.62      0.68       205\n",
            "        python       0.95      0.75      0.84       174\n",
            "       android       0.93      0.74      0.83       134\n",
            "           ios       0.88      0.63      0.73       110\n",
            "          .net       0.62      0.11      0.18       123\n",
            "           php       0.92      0.29      0.44        79\n",
            "             c       0.75      0.42      0.54        86\n",
            "          html       0.73      0.42      0.53        98\n",
            "        jquery       0.80      0.53      0.64        66\n",
            "   performance       0.85      0.14      0.24        77\n",
            "           css       0.81      0.38      0.52        68\n",
            "   objective-c       0.62      0.21      0.31        39\n",
            "         c++11       0.77      0.22      0.34        46\n",
            "       asp.net       0.67      0.11      0.20        35\n",
            "       node.js       0.85      0.33      0.48        51\n",
            "           sql       0.70      0.36      0.47        45\n",
            "     algorithm       0.70      0.19      0.30        37\n",
            "         linux       0.71      0.12      0.20        42\n",
            "        spring       0.77      0.59      0.67        41\n",
            "multithreading       0.80      0.32      0.45        38\n",
            "        iphone       0.00      0.00      0.00        30\n",
            "         swift       0.92      0.31      0.47        35\n",
            "         mysql       0.94      0.36      0.52        45\n",
            "       windows       0.50      0.06      0.11        31\n",
            "          json       0.89      0.40      0.55        40\n",
            "        arrays       0.40      0.06      0.11        31\n",
            "         xcode       0.70      0.27      0.39        26\n",
            "\n",
            "     micro avg       0.82      0.48      0.61      2495\n",
            "     macro avg       0.75      0.36      0.46      2495\n",
            "  weighted avg       0.79      0.48      0.57      2495\n",
            "   samples avg       0.62      0.52      0.54      2495\n",
            "\n"
          ]
        },
        {
          "name": "stderr",
          "output_type": "stream",
          "text": [
            "c:\\dev\\topic_modelling\\lib\\site-packages\\sklearn\\metrics\\_classification.py:1344: UndefinedMetricWarning: Precision and F-score are ill-defined and being set to 0.0 in samples with no predicted labels. Use `zero_division` parameter to control this behavior.\n",
            "  _warn_prf(average, modifier, msg_start, len(result))\n"
          ]
        }
      ],
      "source": [
        "print(classification_report(y_test_b, y_pred_concat, target_names=label_list, digits=2))"
      ]
    },
    {
      "attachments": {},
      "cell_type": "markdown",
      "metadata": {
        "id": "c2eYg6Vb1Zcp"
      },
      "source": [
        "# Random forest\n",
        "\n",
        "## Consecutive grid-search for hyperparameters tunning :"
      ]
    },
    {
      "cell_type": "code",
      "execution_count": null,
      "metadata": {},
      "outputs": [],
      "source": [
        "X_svd_train, X_svd_test = tfidf_lsa_preprocessing(X_train, X_test)"
      ]
    },
    {
      "attachments": {},
      "cell_type": "markdown",
      "metadata": {},
      "source": [
        "The hyper-parameter tunning is very long to run. I choose to compute it for a subset. \n",
        "\n",
        "If the model is the one achieving the best performance then I will tune it on the all train set. "
      ]
    },
    {
      "cell_type": "code",
      "execution_count": null,
      "metadata": {
        "colab": {
          "base_uri": "https://localhost:8080/",
          "height": 397
        },
        "id": "5dF1fQt9BoZm",
        "outputId": "d3a97c52-9b65-4425-fb0c-f86f2ab55024"
      },
      "outputs": [
        {
          "name": "stdout",
          "output_type": "stream",
          "text": [
            "Random grid:  GridSearchCV(estimator=RandomForestRegressor(),\n",
            "             param_grid={'max_depth': [2, 5, 10], 'min_samples_leaf': [1, 3, 4],\n",
            "                         'min_samples_split': [2, 6, 10],\n",
            "                         'n_estimators': [20, 50]}) \n",
            "\n",
            "Best Parameters:  {'max_depth': 10, 'min_samples_leaf': 4, 'min_samples_split': 2, 'n_estimators': 50}  \n",
            "\n"
          ]
        }
      ],
      "source": [
        "n_estimators = [20, 50]  # number of trees in the random forest\n",
        "max_depth = [2 ,5, 10]  # maximum number of levels allowed in each decision tree\n",
        "min_samples_split = [2, 6, 10]  # minimum sample number to split a node\n",
        "min_samples_leaf = [1, 3, 4]  # minimum sample number that can be stored in a leaf node\n",
        "\n",
        "random_grid = {\n",
        "    \"n_estimators\": n_estimators,\n",
        "    \"max_depth\": max_depth,\n",
        "    \"min_samples_split\": min_samples_split,\n",
        "    \"min_samples_leaf\": min_samples_leaf,\n",
        "}\n",
        "\n",
        "rf = RandomForestRegressor()\n",
        "grid_seach_rf = GridSearchCV(rf, random_grid)  #  default 5-fold cross validation,\n",
        "\n",
        "grid_seach_rf.fit(X_svd_train[:300], y_train_b[:300])\n",
        "\n",
        "print(\"Random grid: \", grid_seach_rf, \"\\n\")\n",
        "print(\"Best Parameters: \", grid_seach_rf.best_params_, \" \\n\")"
      ]
    },
    {
      "cell_type": "code",
      "execution_count": null,
      "metadata": {},
      "outputs": [],
      "source": [
        "best_params = grid_seach_rf.best_params_\n",
        "RF_MAX_DEPTH = best_params.get('max_depth')\n",
        "RF_N  = best_params.get('n_estimators')\n",
        "RF_MIN_SAMPLE_LEAF =  best_params.get('min_samples_leaf')\n",
        "RF_MIN_SAMPLES_SPLIT= best_params.get('min_samples_split')"
      ]
    },
    {
      "cell_type": "code",
      "execution_count": null,
      "metadata": {
        "id": "3Xe-ycuPChGi"
      },
      "outputs": [
        {
          "data": {
            "text/html": [
              "<style>#sk-container-id-1 {color: black;background-color: white;}#sk-container-id-1 pre{padding: 0;}#sk-container-id-1 div.sk-toggleable {background-color: white;}#sk-container-id-1 label.sk-toggleable__label {cursor: pointer;display: block;width: 100%;margin-bottom: 0;padding: 0.3em;box-sizing: border-box;text-align: center;}#sk-container-id-1 label.sk-toggleable__label-arrow:before {content: \"▸\";float: left;margin-right: 0.25em;color: #696969;}#sk-container-id-1 label.sk-toggleable__label-arrow:hover:before {color: black;}#sk-container-id-1 div.sk-estimator:hover label.sk-toggleable__label-arrow:before {color: black;}#sk-container-id-1 div.sk-toggleable__content {max-height: 0;max-width: 0;overflow: hidden;text-align: left;background-color: #f0f8ff;}#sk-container-id-1 div.sk-toggleable__content pre {margin: 0.2em;color: black;border-radius: 0.25em;background-color: #f0f8ff;}#sk-container-id-1 input.sk-toggleable__control:checked~div.sk-toggleable__content {max-height: 200px;max-width: 100%;overflow: auto;}#sk-container-id-1 input.sk-toggleable__control:checked~label.sk-toggleable__label-arrow:before {content: \"▾\";}#sk-container-id-1 div.sk-estimator input.sk-toggleable__control:checked~label.sk-toggleable__label {background-color: #d4ebff;}#sk-container-id-1 div.sk-label input.sk-toggleable__control:checked~label.sk-toggleable__label {background-color: #d4ebff;}#sk-container-id-1 input.sk-hidden--visually {border: 0;clip: rect(1px 1px 1px 1px);clip: rect(1px, 1px, 1px, 1px);height: 1px;margin: -1px;overflow: hidden;padding: 0;position: absolute;width: 1px;}#sk-container-id-1 div.sk-estimator {font-family: monospace;background-color: #f0f8ff;border: 1px dotted black;border-radius: 0.25em;box-sizing: border-box;margin-bottom: 0.5em;}#sk-container-id-1 div.sk-estimator:hover {background-color: #d4ebff;}#sk-container-id-1 div.sk-parallel-item::after {content: \"\";width: 100%;border-bottom: 1px solid gray;flex-grow: 1;}#sk-container-id-1 div.sk-label:hover label.sk-toggleable__label {background-color: #d4ebff;}#sk-container-id-1 div.sk-serial::before {content: \"\";position: absolute;border-left: 1px solid gray;box-sizing: border-box;top: 0;bottom: 0;left: 50%;z-index: 0;}#sk-container-id-1 div.sk-serial {display: flex;flex-direction: column;align-items: center;background-color: white;padding-right: 0.2em;padding-left: 0.2em;position: relative;}#sk-container-id-1 div.sk-item {position: relative;z-index: 1;}#sk-container-id-1 div.sk-parallel {display: flex;align-items: stretch;justify-content: center;background-color: white;position: relative;}#sk-container-id-1 div.sk-item::before, #sk-container-id-1 div.sk-parallel-item::before {content: \"\";position: absolute;border-left: 1px solid gray;box-sizing: border-box;top: 0;bottom: 0;left: 50%;z-index: -1;}#sk-container-id-1 div.sk-parallel-item {display: flex;flex-direction: column;z-index: 1;position: relative;background-color: white;}#sk-container-id-1 div.sk-parallel-item:first-child::after {align-self: flex-end;width: 50%;}#sk-container-id-1 div.sk-parallel-item:last-child::after {align-self: flex-start;width: 50%;}#sk-container-id-1 div.sk-parallel-item:only-child::after {width: 0;}#sk-container-id-1 div.sk-dashed-wrapped {border: 1px dashed gray;margin: 0 0.4em 0.5em 0.4em;box-sizing: border-box;padding-bottom: 0.4em;background-color: white;}#sk-container-id-1 div.sk-label label {font-family: monospace;font-weight: bold;display: inline-block;line-height: 1.2em;}#sk-container-id-1 div.sk-label-container {text-align: center;}#sk-container-id-1 div.sk-container {/* jupyter's `normalize.less` sets `[hidden] { display: none; }` but bootstrap.min.css set `[hidden] { display: none !important; }` so we also need the `!important` here to be able to override the default hidden behavior on the sphinx rendered scikit-learn.org. See: https://github.com/scikit-learn/scikit-learn/issues/21755 */display: inline-block !important;position: relative;}#sk-container-id-1 div.sk-text-repr-fallback {display: none;}</style><div id=\"sk-container-id-1\" class=\"sk-top-container\"><div class=\"sk-text-repr-fallback\"><pre>RandomForestRegressor(max_depth=10, min_samples_leaf=4, n_estimators=50,\n",
              "                      oob_score=True)</pre><b>In a Jupyter environment, please rerun this cell to show the HTML representation or trust the notebook. <br />On GitHub, the HTML representation is unable to render, please try loading this page with nbviewer.org.</b></div><div class=\"sk-container\" hidden><div class=\"sk-item\"><div class=\"sk-estimator sk-toggleable\"><input class=\"sk-toggleable__control sk-hidden--visually\" id=\"sk-estimator-id-1\" type=\"checkbox\" checked><label for=\"sk-estimator-id-1\" class=\"sk-toggleable__label sk-toggleable__label-arrow\">RandomForestRegressor</label><div class=\"sk-toggleable__content\"><pre>RandomForestRegressor(max_depth=10, min_samples_leaf=4, n_estimators=50,\n",
              "                      oob_score=True)</pre></div></div></div></div></div>"
            ],
            "text/plain": [
              "RandomForestRegressor(max_depth=10, min_samples_leaf=4, n_estimators=50,\n",
              "                      oob_score=True)"
            ]
          },
          "execution_count": 47,
          "metadata": {},
          "output_type": "execute_result"
        }
      ],
      "source": [
        "rf = RandomForestRegressor(oob_score=True,\n",
        "                        min_samples_leaf=RF_MIN_SAMPLE_LEAF, \n",
        "                        min_samples_split=RF_MIN_SAMPLES_SPLIT,\n",
        "                        n_estimators=RF_N,\n",
        "                        max_depth=RF_MAX_DEPTH)\n",
        "rf.fit(X_svd_train, y_train_b)"
      ]
    },
    {
      "cell_type": "code",
      "execution_count": null,
      "metadata": {},
      "outputs": [],
      "source": [
        "y_train_pred = rf.predict(X_svd_train)\n",
        "threshold_test = tm_test_threshold(y_train_b, y_train_pred)  "
      ]
    },
    {
      "cell_type": "code",
      "execution_count": null,
      "metadata": {},
      "outputs": [
        {
          "data": {
            "image/png": "[encoded data removed]",
            "text/plain": [
              "<Figure size 640x480 with 1 Axes>"
            ]
          },
          "metadata": {},
          "output_type": "display_data"
        }
      ],
      "source": [
        "tm_plot_threshold_test(threshold_test)"
      ]
    },
    {
      "cell_type": "code",
      "execution_count": null,
      "metadata": {},
      "outputs": [
        {
          "data": {
            "text/plain": [
              "0.25118864315094075"
            ]
          },
          "execution_count": 53,
          "metadata": {},
          "output_type": "execute_result"
        }
      ],
      "source": [
        "max_config = threshold_test.query('precision == precision.max()')\n",
        "t = max_config[\"threshold\"]\n",
        "best_t =  t.values[0]\n",
        "best_t"
      ]
    },
    {
      "cell_type": "code",
      "execution_count": null,
      "metadata": {
        "id": "CvUpMMwoBzmy"
      },
      "outputs": [
        {
          "data": {
            "image/png": "[encoded data removed]",
            "text/plain": [
              "<Figure size 2000x500 with 4 Axes>"
            ]
          },
          "metadata": {},
          "output_type": "display_data"
        }
      ],
      "source": [
        "y_pred_rf = rf.predict(X_svd_test)\n",
        "y_pred_rf = (y_pred_rf > best_t).astype(np.float32)\n",
        "plot_counf_matrix(y_test_b, y_pred_rf)"
      ]
    },
    {
      "cell_type": "code",
      "execution_count": null,
      "metadata": {
        "id": "Z8U9RHrMCDfg"
      },
      "outputs": [],
      "source": [
        "precision_rf      = average_precision_score(y_test_b, y_pred_rf, average='micro')\n",
        "jaccard_score_rf = jaccard_score(y_test_b, y_pred_rf, average='micro')"
      ]
    },
    {
      "attachments": {},
      "cell_type": "markdown",
      "metadata": {},
      "source": [
        "## Evaluation "
      ]
    },
    {
      "cell_type": "code",
      "execution_count": null,
      "metadata": {},
      "outputs": [],
      "source": [
        "avg_precision_scores = [\n",
        "    precision_dummy,\n",
        "    precision_logistic_concatenation,\n",
        "    precision_svm,\n",
        "    precision_rf,\n",
        "]\n",
        "jaccard_scores = [\n",
        "    jaccard_score_dummy,\n",
        "    jaccard_score_logistic_concatenation,\n",
        "    jaccard_score_svm,\n",
        "    jaccard_score_rf,\n",
        "]\n",
        "\n",
        "result = pd.DataFrame(\n",
        "    {\n",
        "        \"average_precision_scores\": avg_precision_scores,\n",
        "        \"jaccard_scores\": jaccard_scores,\n",
        "    },\n",
        "    index=[\n",
        "        \"Dummy classifier\",\n",
        "        \"logistic : concatenation\",\n",
        "        \"SVM : concatenation \",\n",
        "        \"RandomForest\",\n",
        "    ],\n",
        ")\n",
        "result.to_csv(f\"{output_dir}result_supervised1.csv\")"
      ]
    },
    {
      "cell_type": "code",
      "execution_count": null,
      "metadata": {},
      "outputs": [
        {
          "data": {
            "text/html": [
              "<div>\n",
              "<style scoped>\n",
              "    .dataframe tbody tr th:only-of-type {\n",
              "        vertical-align: middle;\n",
              "    }\n",
              "\n",
              "    .dataframe tbody tr th {\n",
              "        vertical-align: top;\n",
              "    }\n",
              "\n",
              "    .dataframe thead th {\n",
              "        text-align: right;\n",
              "    }\n",
              "</style>\n",
              "<table border=\"1\" class=\"dataframe\">\n",
              "  <thead>\n",
              "    <tr style=\"text-align: right;\">\n",
              "      <th></th>\n",
              "      <th>average_precision_scores</th>\n",
              "      <th>jaccard_scores</th>\n",
              "    </tr>\n",
              "  </thead>\n",
              "  <tbody>\n",
              "    <tr>\n",
              "      <th>Dummy classifier</th>\n",
              "      <td>0.055033</td>\n",
              "      <td>0.000000</td>\n",
              "    </tr>\n",
              "    <tr>\n",
              "      <th>logistic : concatenation</th>\n",
              "      <td>0.139004</td>\n",
              "      <td>0.097722</td>\n",
              "    </tr>\n",
              "    <tr>\n",
              "      <th>SVM : concatenation</th>\n",
              "      <td>0.373852</td>\n",
              "      <td>0.382614</td>\n",
              "    </tr>\n",
              "    <tr>\n",
              "      <th>RandomForest</th>\n",
              "      <td>0.296040</td>\n",
              "      <td>0.345479</td>\n",
              "    </tr>\n",
              "  </tbody>\n",
              "</table>\n",
              "</div>"
            ],
            "text/plain": [
              "                          average_precision_scores  jaccard_scores\n",
              "Dummy classifier                          0.055033        0.000000\n",
              "logistic : concatenation                  0.139004        0.097722\n",
              "SVM : concatenation                       0.373852        0.382614\n",
              "RandomForest                              0.296040        0.345479"
            ]
          },
          "execution_count": 61,
          "metadata": {},
          "output_type": "execute_result"
        }
      ],
      "source": [
        "result.to_csv(f\"{output_dir}/supervised_1_results.csv\")\n",
        "result"
      ]
    },
    {
      "attachments": {},
      "cell_type": "markdown",
      "metadata": {},
      "source": [
        "This is the notebook results. we still need to compare these scores to the NN approach and to the unsupervised learning one. "
      ]
    }
  ],
  "metadata": {
    "colab": {
      "provenance": []
    },
    "kernelspec": {
      "display_name": "Python 3",
      "name": "python3"
    },
    "language_info": {
      "codemirror_mode": {
        "name": "ipython",
        "version": 3
      },
      "file_extension": ".py",
      "mimetype": "text/x-python",
      "name": "python",
      "nbconvert_exporter": "python",
      "pygments_lexer": "ipython3",
      "version": "3.8.10"
    },
    "orig_nbformat": 4
  },
  "nbformat": 4,
  "nbformat_minor": 0
}
