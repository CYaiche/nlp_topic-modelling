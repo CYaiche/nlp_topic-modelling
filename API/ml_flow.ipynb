{
 "cells": [
  {
   "cell_type": "code",
   "execution_count": 3,
   "metadata": {},
   "outputs": [
    {
     "name": "stdout",
     "output_type": "stream",
     "text": [
      "a\n"
     ]
    }
   ],
   "source": [
    "print(\"a\")"
   ]
  },
  {
   "cell_type": "code",
   "execution_count": 2,
   "metadata": {},
   "outputs": [],
   "source": [
    "import mlflow"
   ]
  },
  {
   "cell_type": "code",
   "execution_count": 12,
   "metadata": {},
   "outputs": [
    {
     "name": "stdout",
     "output_type": "stream",
     "text": [
      "[USE TRAIN] Load use embedding\n"
     ]
    },
    {
     "name": "stderr",
     "output_type": "stream",
     "text": [
      "2023/07/07 13:16:25 INFO mlflow.tracking.fluent: Autologging successfully enabled for sklearn.\n",
      "2023/07/07 13:16:25 INFO mlflow.tracking.fluent: Autologging successfully enabled for tensorflow.\n"
     ]
    },
    {
     "name": "stdout",
     "output_type": "stream",
     "text": [
      "[USE TRAIN] done\n",
      "Name: NLP_TOPIC_MODELLING \n",
      "Experiment_id: 366875139173174664\n",
      "Artifact Location: file:///c:/dev/topic_modelling/API/mlruns\n",
      "Tags: {'priority': 'P1', 'version': 'v1'}\n",
      "Lifecycle_stage: active\n",
      "Creation timestamp: 1688728585556\n",
      "[USE TRAIN] Active run_id: 93bf2b0d7b4a473398da85fce3e4aac1\n",
      "[USE TRAIN] Current tracking uri: file://C:\\dev\\topic_modelling\\output\\logs\\mlruns\n",
      "[USE TRAIN] Load data ...\n",
      "386\n",
      "96\n",
      "[USE TRAIN] Load completed\n",
      "[USE TRAIN] Generate the embedding of the data ...\n",
      "[USE TRAIN] embedding completed\n",
      "[USE TRAIN] Get model and fit ...\n",
      "Model: \"sequential_2\"\n",
      "_________________________________________________________________\n",
      " Layer (type)                Output Shape              Param #   \n",
      "=================================================================\n",
      " dense_6 (Dense)             (None, 256)               131328    \n",
      "                                                                 \n",
      " dense_7 (Dense)             (None, 128)               32896     \n",
      "                                                                 \n",
      " dense_8 (Dense)             (None, 30)                3870      \n",
      "                                                                 \n",
      "=================================================================\n",
      "Total params: 168,094\n",
      "Trainable params: 168,094\n",
      "Non-trainable params: 0\n",
      "_________________________________________________________________\n"
     ]
    },
    {
     "name": "stderr",
     "output_type": "stream",
     "text": [
      "2023/07/07 13:16:31 WARNING mlflow.tensorflow: Failed to log training dataset information to MLflow Tracking. Reason: If 'features' is a TensorFlow Tensor, then 'targets' must also be a TensorFlow Tensor. Found: <class 'numpy.ndarray'>.\n"
     ]
    },
    {
     "name": "stdout",
     "output_type": "stream",
     "text": [
      "Epoch 1/100\n",
      "4/4 [==============================] - 0s 4ms/step - loss: 0.6823 - accuracy: 0.0415\n",
      "Epoch 2/100\n",
      "1/4 [======>.......................] - ETA: 0s - loss: 0.6538 - accuracy: 0.0703WARNING:tensorflow:Callback method `on_train_batch_end` is slow compared to the batch time (batch time: 0.0016s vs `on_train_batch_end` time: 0.0017s). Check your callbacks.\n"
     ]
    },
    {
     "name": "stderr",
     "output_type": "stream",
     "text": [
      "WARNING:tensorflow:Callback method `on_train_batch_end` is slow compared to the batch time (batch time: 0.0016s vs `on_train_batch_end` time: 0.0017s). Check your callbacks.\n"
     ]
    },
    {
     "name": "stdout",
     "output_type": "stream",
     "text": [
      "4/4 [==============================] - 0s 4ms/step - loss: 0.6411 - accuracy: 0.0803\n",
      "Epoch 3/100\n",
      "4/4 [==============================] - 0s 5ms/step - loss: 0.5721 - accuracy: 0.0648\n",
      "Epoch 4/100\n",
      "4/4 [==============================] - 0s 3ms/step - loss: 0.4689 - accuracy: 0.0777\n",
      "Epoch 5/100\n",
      "4/4 [==============================] - 0s 3ms/step - loss: 0.3492 - accuracy: 0.1244\n",
      "Epoch 6/100\n",
      "4/4 [==============================] - 0s 5ms/step - loss: 0.2557 - accuracy: 0.1632\n",
      "Epoch 7/100\n",
      "4/4 [==============================] - 0s 3ms/step - loss: 0.2159 - accuracy: 0.1503\n",
      "Epoch 8/100\n",
      "4/4 [==============================] - 0s 4ms/step - loss: 0.2145 - accuracy: 0.1347\n",
      "Epoch 9/100\n",
      "4/4 [==============================] - 0s 6ms/step - loss: 0.2181 - accuracy: 0.2435\n",
      "Epoch 10/100\n",
      "4/4 [==============================] - 0s 3ms/step - loss: 0.2115 - accuracy: 0.1891\n",
      "Epoch 11/100\n",
      "4/4 [==============================] - 0s 4ms/step - loss: 0.2003 - accuracy: 0.1891\n",
      "Epoch 12/100\n",
      "4/4 [==============================] - 0s 6ms/step - loss: 0.1915 - accuracy: 0.1891\n",
      "Epoch 13/100\n",
      "4/4 [==============================] - 0s 3ms/step - loss: 0.1888 - accuracy: 0.1917\n",
      "Epoch 14/100\n",
      "4/4 [==============================] - 0s 3ms/step - loss: 0.1886 - accuracy: 0.2358\n",
      "Epoch 15/100\n",
      "4/4 [==============================] - 0s 3ms/step - loss: 0.1876 - accuracy: 0.2694\n",
      "Epoch 16/100\n",
      "4/4 [==============================] - 0s 6ms/step - loss: 0.1859 - accuracy: 0.3756\n",
      "Epoch 17/100\n",
      "4/4 [==============================] - 0s 3ms/step - loss: 0.1844 - accuracy: 0.4249\n",
      "Epoch 18/100\n",
      "4/4 [==============================] - 0s 3ms/step - loss: 0.1830 - accuracy: 0.4067\n",
      "Epoch 19/100\n",
      "4/4 [==============================] - 0s 4ms/step - loss: 0.1814 - accuracy: 0.3653\n",
      "Epoch 20/100\n",
      "4/4 [==============================] - 0s 5ms/step - loss: 0.1798 - accuracy: 0.3238\n",
      "Epoch 21/100\n",
      "4/4 [==============================] - 0s 3ms/step - loss: 0.1783 - accuracy: 0.3005\n",
      "Epoch 22/100\n",
      "4/4 [==============================] - 0s 4ms/step - loss: 0.1766 - accuracy: 0.2876\n",
      "Epoch 23/100\n",
      "4/4 [==============================] - 0s 3ms/step - loss: 0.1747 - accuracy: 0.2876\n",
      "Epoch 24/100\n",
      "4/4 [==============================] - 0s 3ms/step - loss: 0.1727 - accuracy: 0.3860\n",
      "Epoch 25/100\n",
      "4/4 [==============================] - 0s 6ms/step - loss: 0.1716 - accuracy: 0.4093\n",
      "Epoch 26/100\n",
      "4/4 [==============================] - 0s 3ms/step - loss: 0.1706 - accuracy: 0.3938\n",
      "Epoch 27/100\n",
      "4/4 [==============================] - 0s 3ms/step - loss: 0.1686 - accuracy: 0.4041\n",
      "Epoch 28/100\n",
      "4/4 [==============================] - 0s 3ms/step - loss: 0.1667 - accuracy: 0.4430\n",
      "Epoch 29/100\n",
      "4/4 [==============================] - 0s 3ms/step - loss: 0.1646 - accuracy: 0.4430\n",
      "Epoch 30/100\n",
      "4/4 [==============================] - 0s 6ms/step - loss: 0.1616 - accuracy: 0.4637\n",
      "Epoch 31/100\n",
      "4/4 [==============================] - 0s 2ms/step - loss: 0.1587 - accuracy: 0.5311\n",
      "Epoch 32/100\n",
      "4/4 [==============================] - 0s 3ms/step - loss: 0.1563 - accuracy: 0.5492\n",
      "Epoch 33/100\n",
      "4/4 [==============================] - 0s 3ms/step - loss: 0.1545 - accuracy: 0.5984\n",
      "Epoch 34/100\n",
      "4/4 [==============================] - 0s 5ms/step - loss: 0.1527 - accuracy: 0.6114\n",
      "Epoch 35/100\n",
      "4/4 [==============================] - 0s 3ms/step - loss: 0.1512 - accuracy: 0.6036\n",
      "Epoch 36/100\n",
      "4/4 [==============================] - 0s 3ms/step - loss: 0.1494 - accuracy: 0.6347\n",
      "Epoch 37/100\n",
      "4/4 [==============================] - 0s 3ms/step - loss: 0.1471 - accuracy: 0.6399\n",
      "Epoch 38/100\n",
      "4/4 [==============================] - 0s 6ms/step - loss: 0.1444 - accuracy: 0.6503\n",
      "Epoch 39/100\n",
      "4/4 [==============================] - 0s 3ms/step - loss: 0.1416 - accuracy: 0.6269\n",
      "Epoch 40/100\n",
      "4/4 [==============================] - 0s 3ms/step - loss: 0.1393 - accuracy: 0.6321\n",
      "Epoch 41/100\n",
      "4/4 [==============================] - 0s 3ms/step - loss: 0.1376 - accuracy: 0.6477\n",
      "Epoch 42/100\n",
      "4/4 [==============================] - 0s 5ms/step - loss: 0.1361 - accuracy: 0.6813\n",
      "Epoch 43/100\n",
      "4/4 [==============================] - 0s 3ms/step - loss: 0.1343 - accuracy: 0.6762\n",
      "Epoch 44/100\n",
      "4/4 [==============================] - 0s 4ms/step - loss: 0.1322 - accuracy: 0.6762\n",
      "Epoch 45/100\n",
      "4/4 [==============================] - 0s 3ms/step - loss: 0.1304 - accuracy: 0.6632\n",
      "Epoch 46/100\n",
      "4/4 [==============================] - 0s 6ms/step - loss: 0.1281 - accuracy: 0.6606\n",
      "Epoch 47/100\n",
      "4/4 [==============================] - 0s 3ms/step - loss: 0.1256 - accuracy: 0.6865\n",
      "Epoch 48/100\n",
      "4/4 [==============================] - 0s 3ms/step - loss: 0.1231 - accuracy: 0.7176\n",
      "Epoch 49/100\n",
      "4/4 [==============================] - 0s 3ms/step - loss: 0.1212 - accuracy: 0.7176\n",
      "Epoch 50/100\n",
      "4/4 [==============================] - 0s 6ms/step - loss: 0.1199 - accuracy: 0.7228\n",
      "Epoch 51/100\n",
      "4/4 [==============================] - 0s 4ms/step - loss: 0.1180 - accuracy: 0.7332\n",
      "Epoch 52/100\n",
      "4/4 [==============================] - 0s 4ms/step - loss: 0.1160 - accuracy: 0.7280\n",
      "Epoch 53/100\n",
      "4/4 [==============================] - 0s 5ms/step - loss: 0.1141 - accuracy: 0.7280\n",
      "Epoch 54/100\n",
      "4/4 [==============================] - 0s 7ms/step - loss: 0.1122 - accuracy: 0.7124\n",
      "Epoch 55/100\n",
      "4/4 [==============================] - 0s 4ms/step - loss: 0.1106 - accuracy: 0.7047\n",
      "Epoch 56/100\n",
      "4/4 [==============================] - 0s 3ms/step - loss: 0.1096 - accuracy: 0.6995\n",
      "Epoch 57/100\n",
      "4/4 [==============================] - 0s 6ms/step - loss: 0.1087 - accuracy: 0.6891\n",
      "Epoch 58/100\n",
      "4/4 [==============================] - 0s 4ms/step - loss: 0.1077 - accuracy: 0.6839\n",
      "Epoch 59/100\n",
      "4/4 [==============================] - 0s 3ms/step - loss: 0.1058 - accuracy: 0.6917\n",
      "Epoch 60/100\n",
      "4/4 [==============================] - 0s 4ms/step - loss: 0.1036 - accuracy: 0.7098\n",
      "Epoch 61/100\n",
      "4/4 [==============================] - 0s 6ms/step - loss: 0.1026 - accuracy: 0.7073\n",
      "Epoch 62/100\n",
      "4/4 [==============================] - 0s 3ms/step - loss: 0.1019 - accuracy: 0.7332\n",
      "Epoch 63/100\n",
      "4/4 [==============================] - 0s 3ms/step - loss: 0.1012 - accuracy: 0.7306\n",
      "Epoch 64/100\n",
      "4/4 [==============================] - 0s 4ms/step - loss: 0.1004 - accuracy: 0.7332\n",
      "Epoch 65/100\n",
      "4/4 [==============================] - 0s 6ms/step - loss: 0.0994 - accuracy: 0.7332\n",
      "Epoch 66/100\n",
      "4/4 [==============================] - 0s 3ms/step - loss: 0.0977 - accuracy: 0.7435\n",
      "Epoch 67/100\n",
      "4/4 [==============================] - 0s 3ms/step - loss: 0.0962 - accuracy: 0.7539\n",
      "Epoch 68/100\n",
      "4/4 [==============================] - 0s 3ms/step - loss: 0.0954 - accuracy: 0.7461\n",
      "Epoch 69/100\n",
      "4/4 [==============================] - 0s 5ms/step - loss: 0.0954 - accuracy: 0.7332\n",
      "Epoch 70/100\n",
      "4/4 [==============================] - 0s 3ms/step - loss: 0.0951 - accuracy: 0.7306\n",
      "Epoch 71/100\n",
      "4/4 [==============================] - 0s 3ms/step - loss: 0.0935 - accuracy: 0.7461\n",
      "Epoch 72/100\n",
      "4/4 [==============================] - 0s 3ms/step - loss: 0.0919 - accuracy: 0.7487\n",
      "Epoch 73/100\n",
      "4/4 [==============================] - 0s 5ms/step - loss: 0.0900 - accuracy: 0.7642\n",
      "Epoch 74/100\n",
      "4/4 [==============================] - 0s 3ms/step - loss: 0.0886 - accuracy: 0.7746\n",
      "Epoch 75/100\n",
      "4/4 [==============================] - 0s 3ms/step - loss: 0.0877 - accuracy: 0.7798\n",
      "Epoch 76/100\n",
      "4/4 [==============================] - 0s 3ms/step - loss: 0.0868 - accuracy: 0.7798\n",
      "Epoch 77/100\n",
      "4/4 [==============================] - 0s 5ms/step - loss: 0.0858 - accuracy: 0.7746\n",
      "Epoch 78/100\n",
      "4/4 [==============================] - 0s 3ms/step - loss: 0.0850 - accuracy: 0.7798\n",
      "Epoch 79/100\n",
      "4/4 [==============================] - 0s 3ms/step - loss: 0.0840 - accuracy: 0.7824\n",
      "Epoch 80/100\n",
      "4/4 [==============================] - 0s 5ms/step - loss: 0.0841 - accuracy: 0.7694\n",
      "Epoch 81/100\n",
      "4/4 [==============================] - 0s 3ms/step - loss: 0.0856 - accuracy: 0.7668\n",
      "Epoch 82/100\n",
      "4/4 [==============================] - 0s 3ms/step - loss: 0.0855 - accuracy: 0.7565\n",
      "Epoch 83/100\n",
      "4/4 [==============================] - 0s 3ms/step - loss: 0.0833 - accuracy: 0.7720\n",
      "Epoch 84/100\n",
      "4/4 [==============================] - 0s 6ms/step - loss: 0.0805 - accuracy: 0.7979\n",
      "Epoch 85/100\n",
      "4/4 [==============================] - 0s 3ms/step - loss: 0.0791 - accuracy: 0.7953\n",
      "Epoch 86/100\n",
      "4/4 [==============================] - 0s 3ms/step - loss: 0.0792 - accuracy: 0.7850\n",
      "Epoch 87/100\n",
      "4/4 [==============================] - 0s 3ms/step - loss: 0.0792 - accuracy: 0.7824\n",
      "Epoch 88/100\n",
      "4/4 [==============================] - 0s 8ms/step - loss: 0.0778 - accuracy: 0.7927\n",
      "Epoch 89/100\n",
      "4/4 [==============================] - 0s 4ms/step - loss: 0.0759 - accuracy: 0.8031\n",
      "Epoch 90/100\n",
      "4/4 [==============================] - 0s 3ms/step - loss: 0.0749 - accuracy: 0.8057\n",
      "Epoch 91/100\n",
      "4/4 [==============================] - 0s 3ms/step - loss: 0.0744 - accuracy: 0.8187\n",
      "Epoch 92/100\n",
      "4/4 [==============================] - 0s 3ms/step - loss: 0.0734 - accuracy: 0.8083\n",
      "Epoch 93/100\n",
      "4/4 [==============================] - 0s 6ms/step - loss: 0.0725 - accuracy: 0.8031\n",
      "Epoch 94/100\n",
      "4/4 [==============================] - 0s 3ms/step - loss: 0.0721 - accuracy: 0.8083\n",
      "Epoch 95/100\n",
      "4/4 [==============================] - 0s 4ms/step - loss: 0.0713 - accuracy: 0.8083\n",
      "Epoch 96/100\n",
      "4/4 [==============================] - 0s 3ms/step - loss: 0.0708 - accuracy: 0.8083\n",
      "Epoch 97/100\n",
      "4/4 [==============================] - 0s 6ms/step - loss: 0.0707 - accuracy: 0.8109\n",
      "Epoch 98/100\n",
      "4/4 [==============================] - 0s 3ms/step - loss: 0.0700 - accuracy: 0.8238\n",
      "Epoch 99/100\n",
      "4/4 [==============================] - 0s 3ms/step - loss: 0.0686 - accuracy: 0.8264\n",
      "Epoch 100/100\n",
      "4/4 [==============================] - 0s 5ms/step - loss: 0.0681 - accuracy: 0.8135\n",
      "1/1 [==============================] - 0s 44ms/step\n",
      "INFO:tensorflow:Assets written to: C:\\Users\\clara\\AppData\\Local\\Temp\\tmpe0a8kj6i\\model\\data\\model\\assets\n"
     ]
    },
    {
     "name": "stderr",
     "output_type": "stream",
     "text": [
      "INFO:tensorflow:Assets written to: C:\\Users\\clara\\AppData\\Local\\Temp\\tmpe0a8kj6i\\model\\data\\model\\assets\n"
     ]
    },
    {
     "name": "stdout",
     "output_type": "stream",
     "text": [
      "4/4 [==============================] - 0s 1ms/step\n",
      "[USE TRAIN] Decision threshold :  0.25118864315094075\n",
      "[USE TRAIN] Model trained\n",
      "[USE TRAIN] Evaluation .... \n",
      "3/3 [==============================] - 0s 1ms/step\n",
      "[USE TRAIN] done\n",
      "[USE TRAIN] Save model .... \n",
      "[USE TRAIN] done\n"
     ]
    }
   ],
   "source": [
    "%run \"C:\\dev\\\\topic_modelling\\API\\\\train.py\""
   ]
  },
  {
   "cell_type": "code",
   "execution_count": 13,
   "metadata": {},
   "outputs": [
    {
     "name": "stdout",
     "output_type": "stream",
     "text": [
      "Date                                             Name                 ID                              \n",
      "-----------------------------------------------  -------------------  --------------------------------\n",
      "2023-07-07 13:08:17 Paris, Madrid (heure d’été)  casual-bat-801       fc08d99e82c942828f39750ae6423ecb\n",
      "2023-07-07 12:27:57 Paris, Madrid (heure d’été)  clean-crab-12        9751e91625924a1eb45a1e44c56e9499\n",
      "2023-07-07 12:26:25 Paris, Madrid (heure d’été)  unleashed-robin-719  ec59a73766cd4675b27b020c159db611\n",
      "2023-07-07 12:23:35 Paris, Madrid (heure d’été)  welcoming-cod-544    b3bfe6853a154967a86a4be122983438\n"
     ]
    }
   ],
   "source": [
    "!mlflow runs list --experiment-id 0 "
   ]
  },
  {
   "cell_type": "code",
   "execution_count": 6,
   "metadata": {},
   "outputs": [
    {
     "name": "stderr",
     "output_type": "stream",
     "text": [
      "Successfully registered model 'USE_TOPIC_CLASSIFIER'.\n"
     ]
    },
    {
     "ename": "MlflowException",
     "evalue": "Run '1' not found",
     "output_type": "error",
     "traceback": [
      "\u001b[1;31m---------------------------------------------------------------------------\u001b[0m",
      "\u001b[1;31mMlflowException\u001b[0m                           Traceback (most recent call last)",
      "Cell \u001b[1;32mIn[6], line 7\u001b[0m\n\u001b[0;32m      3\u001b[0m model_name \u001b[39m=\u001b[39m \u001b[39m\"\u001b[39m\u001b[39mUSE_TOPIC_CLASSIFIER\u001b[39m\u001b[39m\"\u001b[39m\n\u001b[0;32m      5\u001b[0m run_uri \u001b[39m=\u001b[39m \u001b[39mf\u001b[39m\u001b[39m'\u001b[39m\u001b[39mruns:/\u001b[39m\u001b[39m{\u001b[39;00mrun_id\u001b[39m}\u001b[39;00m\u001b[39m/\u001b[39m\u001b[39m'\u001b[39m\n\u001b[1;32m----> 7\u001b[0m model_version \u001b[39m=\u001b[39m mlflow\u001b[39m.\u001b[39;49mregister_model(run_uri,model_name)\n",
      "File \u001b[1;32mc:\\dev\\topic_modelling\\lib\\site-packages\\mlflow\\tracking\\_model_registry\\fluent.py:90\u001b[0m, in \u001b[0;36mregister_model\u001b[1;34m(model_uri, name, await_registration_for, tags)\u001b[0m\n\u001b[0;32m     87\u001b[0m         \u001b[39mraise\u001b[39;00m e\n\u001b[0;32m     89\u001b[0m \u001b[39mif\u001b[39;00m RunsArtifactRepository\u001b[39m.\u001b[39mis_runs_uri(model_uri):\n\u001b[1;32m---> 90\u001b[0m     source \u001b[39m=\u001b[39m RunsArtifactRepository\u001b[39m.\u001b[39;49mget_underlying_uri(model_uri)\n\u001b[0;32m     91\u001b[0m     (run_id, _) \u001b[39m=\u001b[39m RunsArtifactRepository\u001b[39m.\u001b[39mparse_runs_uri(model_uri)\n\u001b[0;32m     92\u001b[0m     create_version_response \u001b[39m=\u001b[39m client\u001b[39m.\u001b[39mcreate_model_version(\n\u001b[0;32m     93\u001b[0m         name, source, run_id, tags\u001b[39m=\u001b[39mtags, await_creation_for\u001b[39m=\u001b[39mawait_registration_for\n\u001b[0;32m     94\u001b[0m     )\n",
      "File \u001b[1;32mc:\\dev\\topic_modelling\\lib\\site-packages\\mlflow\\store\\artifact\\runs_artifact_repo.py:39\u001b[0m, in \u001b[0;36mRunsArtifactRepository.get_underlying_uri\u001b[1;34m(runs_uri)\u001b[0m\n\u001b[0;32m     37\u001b[0m (run_id, artifact_path) \u001b[39m=\u001b[39m RunsArtifactRepository\u001b[39m.\u001b[39mparse_runs_uri(runs_uri)\n\u001b[0;32m     38\u001b[0m tracking_uri \u001b[39m=\u001b[39m get_databricks_profile_uri_from_artifact_uri(runs_uri)\n\u001b[1;32m---> 39\u001b[0m uri \u001b[39m=\u001b[39m get_artifact_uri(run_id, artifact_path, tracking_uri)\n\u001b[0;32m     40\u001b[0m \u001b[39massert\u001b[39;00m \u001b[39mnot\u001b[39;00m RunsArtifactRepository\u001b[39m.\u001b[39mis_runs_uri(uri)  \u001b[39m# avoid an infinite loop\u001b[39;00m\n\u001b[0;32m     41\u001b[0m \u001b[39mreturn\u001b[39;00m add_databricks_profile_info_to_artifact_uri(uri, tracking_uri)\n",
      "File \u001b[1;32mc:\\dev\\topic_modelling\\lib\\site-packages\\mlflow\\tracking\\artifact_utils.py:47\u001b[0m, in \u001b[0;36mget_artifact_uri\u001b[1;34m(run_id, artifact_path, tracking_uri)\u001b[0m\n\u001b[0;32m     41\u001b[0m     \u001b[39mraise\u001b[39;00m MlflowException(\n\u001b[0;32m     42\u001b[0m         message\u001b[39m=\u001b[39m\u001b[39m\"\u001b[39m\u001b[39mA run_id must be specified in order to obtain an artifact uri!\u001b[39m\u001b[39m\"\u001b[39m,\n\u001b[0;32m     43\u001b[0m         error_code\u001b[39m=\u001b[39mINVALID_PARAMETER_VALUE,\n\u001b[0;32m     44\u001b[0m     )\n\u001b[0;32m     46\u001b[0m store \u001b[39m=\u001b[39m _get_store(tracking_uri)\n\u001b[1;32m---> 47\u001b[0m run \u001b[39m=\u001b[39m store\u001b[39m.\u001b[39;49mget_run(run_id)\n\u001b[0;32m     48\u001b[0m \u001b[39m# Maybe move this method to RunsArtifactRepository so the circular dependency is clearer.\u001b[39;00m\n\u001b[0;32m     49\u001b[0m \u001b[39massert\u001b[39;00m urllib\u001b[39m.\u001b[39mparse\u001b[39m.\u001b[39murlparse(run\u001b[39m.\u001b[39minfo\u001b[39m.\u001b[39martifact_uri)\u001b[39m.\u001b[39mscheme \u001b[39m!=\u001b[39m \u001b[39m\"\u001b[39m\u001b[39mruns\u001b[39m\u001b[39m\"\u001b[39m  \u001b[39m# avoid an infinite loop\u001b[39;00m\n",
      "File \u001b[1;32mc:\\dev\\topic_modelling\\lib\\site-packages\\mlflow\\store\\tracking\\file_store.py:656\u001b[0m, in \u001b[0;36mFileStore.get_run\u001b[1;34m(self, run_id)\u001b[0m\n\u001b[0;32m    652\u001b[0m \u001b[39m\u001b[39m\u001b[39m\"\"\"\u001b[39;00m\n\u001b[0;32m    653\u001b[0m \u001b[39mNote: Will get both active and deleted runs.\u001b[39;00m\n\u001b[0;32m    654\u001b[0m \u001b[39m\"\"\"\u001b[39;00m\n\u001b[0;32m    655\u001b[0m _validate_run_id(run_id)\n\u001b[1;32m--> 656\u001b[0m run_info \u001b[39m=\u001b[39m \u001b[39mself\u001b[39;49m\u001b[39m.\u001b[39;49m_get_run_info(run_id)\n\u001b[0;32m    657\u001b[0m \u001b[39mif\u001b[39;00m run_info \u001b[39mis\u001b[39;00m \u001b[39mNone\u001b[39;00m:\n\u001b[0;32m    658\u001b[0m     \u001b[39mraise\u001b[39;00m MlflowException(\n\u001b[0;32m    659\u001b[0m         \u001b[39m\"\u001b[39m\u001b[39mRun \u001b[39m\u001b[39m'\u001b[39m\u001b[39m%s\u001b[39;00m\u001b[39m'\u001b[39m\u001b[39m metadata is in invalid state.\u001b[39m\u001b[39m\"\u001b[39m \u001b[39m%\u001b[39m run_id, databricks_pb2\u001b[39m.\u001b[39mINVALID_STATE\n\u001b[0;32m    660\u001b[0m     )\n",
      "File \u001b[1;32mc:\\dev\\topic_modelling\\lib\\site-packages\\mlflow\\store\\tracking\\file_store.py:680\u001b[0m, in \u001b[0;36mFileStore._get_run_info\u001b[1;34m(self, run_uuid)\u001b[0m\n\u001b[0;32m    678\u001b[0m exp_id, run_dir \u001b[39m=\u001b[39m \u001b[39mself\u001b[39m\u001b[39m.\u001b[39m_find_run_root(run_uuid)\n\u001b[0;32m    679\u001b[0m \u001b[39mif\u001b[39;00m run_dir \u001b[39mis\u001b[39;00m \u001b[39mNone\u001b[39;00m:\n\u001b[1;32m--> 680\u001b[0m     \u001b[39mraise\u001b[39;00m MlflowException(\n\u001b[0;32m    681\u001b[0m         \u001b[39m\"\u001b[39m\u001b[39mRun \u001b[39m\u001b[39m'\u001b[39m\u001b[39m%s\u001b[39;00m\u001b[39m'\u001b[39m\u001b[39m not found\u001b[39m\u001b[39m\"\u001b[39m \u001b[39m%\u001b[39m run_uuid, databricks_pb2\u001b[39m.\u001b[39mRESOURCE_DOES_NOT_EXIST\n\u001b[0;32m    682\u001b[0m     )\n\u001b[0;32m    683\u001b[0m run_info \u001b[39m=\u001b[39m \u001b[39mself\u001b[39m\u001b[39m.\u001b[39m_get_run_info_from_dir(run_dir)\n\u001b[0;32m    684\u001b[0m \u001b[39mif\u001b[39;00m run_info\u001b[39m.\u001b[39mexperiment_id \u001b[39m!=\u001b[39m exp_id:\n",
      "\u001b[1;31mMlflowException\u001b[0m: Run '1' not found"
     ]
    }
   ],
   "source": [
    "import os\n",
    "run_id = 1 \n",
    "model_name = \"USE_TOPIC_CLASSIFIER\"\n",
    "\n",
    "run_uri = f'runs:/{run_id}/'\n",
    "\n",
    "model_version = mlflow.register_model(run_uri,model_name)"
   ]
  }
 ],
 "metadata": {
  "kernelspec": {
   "display_name": "topic_modelling",
   "language": "python",
   "name": "python3"
  },
  "language_info": {
   "codemirror_mode": {
    "name": "ipython",
    "version": 3
   },
   "file_extension": ".py",
   "mimetype": "text/x-python",
   "name": "python",
   "nbconvert_exporter": "python",
   "pygments_lexer": "ipython3",
   "version": "3.8.10"
  },
  "orig_nbformat": 4
 },
 "nbformat": 4,
 "nbformat_minor": 2
}
