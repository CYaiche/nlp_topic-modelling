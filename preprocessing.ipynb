{
  "cells": [
    {
      "attachments": {},
      "cell_type": "markdown",
      "metadata": {
        "id": "Q15KSfMxJ32u"
      },
      "source": [
        "## Topic modelling  : Tag suggestion \n",
        "\n",
        "The project consists is to automatically tag stack overflow posts. \n",
        "\n",
        "When users write a question it can be beneficial for them and for other users to tag the topic into questions. \n",
        "\n",
        "Dataset : the data was optain by the following SQL query on StackExchange Data Explorer  below :   "
      ]
    },
    {
      "attachments": {},
      "cell_type": "markdown",
      "metadata": {
        "id": "sT9T1DbMJ320"
      },
      "source": [
        "SELECT TOP 500000 Id, PostTypeId, CreationDate, Title, Body, Tags, Score,\n",
        "\n",
        "ViewCount, AnswerCount, CommentCount, FavoriteCount FROM Posts \n",
        "\n",
        "WHERE  PostTypeId = 1 AND LEN(Tags) - LEN(REPLACE(Tags, '<','')) >= 5 \n",
        "\n",
        "AND ViewCount > 10 AND CommentCount > 2 \n",
        "\n",
        "AND AnswerCount > 1 AND Score > 5"
      ]
    },
    {
      "attachments": {},
      "cell_type": "markdown",
      "metadata": {
        "id": "_WgDBMGYJ321"
      },
      "source": [
        "In this notebook we will analyse and explore the query output and generate a clean corpus of text with te corresponding tags for further study and model selection. "
      ]
    },
    {
      "cell_type": "code",
      "execution_count": 84,
      "metadata": {},
      "outputs": [],
      "source": [
        "# Test if notebook running on google colab : \n",
        "try :\n",
        "    from google.colab import drive\n",
        "    drive.mount('/content/drive')\n",
        "    output_dir = \"/content/drive/MyDrive/OpenClassroom/\"\n",
        "    pathToDataSet = output_dir + \"QueryResults500000.csv\"\n",
        "    IN_COLAB = True\n",
        "except :\n",
        "    IN_COLAB = False\n",
        "    pathToDataSet = \"C:\\dev\\data\\QueryResults.csv\"\n",
        "    output_dir = \"./output/\"\n",
        "\n",
        "    "
      ]
    },
    {
      "cell_type": "code",
      "execution_count": 69,
      "metadata": {
        "id": "t72u6mnlJ322"
      },
      "outputs": [
        {
          "name": "stderr",
          "output_type": "stream",
          "text": [
            "C:\\Users\\clara\\AppData\\Local\\Temp\\ipykernel_27344\\2292019611.py:16: DeprecationWarning: Importing display from IPython.core.display is deprecated since IPython 7.14, please import from IPython display\n",
            "  from IPython.core.display import display, HTML\n"
          ]
        }
      ],
      "source": [
        "import pandas as pd \n",
        "import numpy as np \n",
        "import matplotlib.pyplot as plt \n",
        "import matplotlib.dates\n",
        "import seaborn as sns \n",
        "import re \n",
        "import tqdm\n",
        "\n",
        "from datetime import datetime\n",
        "import nltk\n",
        "from nltk.stem import \tWordNetLemmatizer\n",
        "from nltk.corpus import stopwords\n",
        "from bs4 import BeautifulSoup\n",
        "\n",
        "import matplotlib.pyplot as plt\n",
        "from wordcloud import WordCloud\n",
        "from IPython.core.display import display, HTML"
      ]
    },
    {
      "cell_type": "code",
      "execution_count": 38,
      "metadata": {
        "id": "5xjZLphVJ325"
      },
      "outputs": [],
      "source": [
        "data = pd.read_csv(pathToDataSet)\n",
        "df = data "
      ]
    },
    {
      "cell_type": "code",
      "execution_count": 39,
      "metadata": {
        "colab": {
          "base_uri": "https://localhost:8080/"
        },
        "id": "o_PRT4S5J326",
        "outputId": "3aff0557-3ee6-4e4a-8196-3307e71ad29d"
      },
      "outputs": [
        {
          "data": {
            "text/plain": [
              "(50000, 11)"
            ]
          },
          "execution_count": 39,
          "metadata": {},
          "output_type": "execute_result"
        }
      ],
      "source": [
        "df.shape"
      ]
    },
    {
      "cell_type": "code",
      "execution_count": 40,
      "metadata": {
        "colab": {
          "base_uri": "https://localhost:8080/",
          "height": 191
        },
        "id": "VnRD3wUkJ328",
        "outputId": "5ac6cddf-998c-4114-b706-b10e96c841c3"
      },
      "outputs": [
        {
          "data": {
            "text/html": [
              "<div>\n",
              "<style scoped>\n",
              "    .dataframe tbody tr th:only-of-type {\n",
              "        vertical-align: middle;\n",
              "    }\n",
              "\n",
              "    .dataframe tbody tr th {\n",
              "        vertical-align: top;\n",
              "    }\n",
              "\n",
              "    .dataframe thead th {\n",
              "        text-align: right;\n",
              "    }\n",
              "</style>\n",
              "<table border=\"1\" class=\"dataframe\">\n",
              "  <thead>\n",
              "    <tr style=\"text-align: right;\">\n",
              "      <th></th>\n",
              "      <th>Id</th>\n",
              "      <th>PostTypeId</th>\n",
              "      <th>CreationDate</th>\n",
              "      <th>Title</th>\n",
              "      <th>Body</th>\n",
              "      <th>Tags</th>\n",
              "      <th>Score</th>\n",
              "      <th>ViewCount</th>\n",
              "      <th>AnswerCount</th>\n",
              "      <th>CommentCount</th>\n",
              "      <th>FavoriteCount</th>\n",
              "    </tr>\n",
              "  </thead>\n",
              "  <tbody>\n",
              "    <tr>\n",
              "      <th>0</th>\n",
              "      <td>20954805</td>\n",
              "      <td>1</td>\n",
              "      <td>2014-01-06 16:42:42</td>\n",
              "      <td>NLTK - Automatically translating similar words</td>\n",
              "      <td>&lt;p&gt;&lt;strong&gt;Big picture goal:&lt;/strong&gt; I am mak...</td>\n",
              "      <td>&lt;python&gt;&lt;algorithm&gt;&lt;nltk&gt;&lt;wordnet&gt;&lt;gensim&gt;</td>\n",
              "      <td>7</td>\n",
              "      <td>2698</td>\n",
              "      <td>2</td>\n",
              "      <td>3</td>\n",
              "      <td>0.0</td>\n",
              "    </tr>\n",
              "    <tr>\n",
              "      <th>1</th>\n",
              "      <td>2131740</td>\n",
              "      <td>1</td>\n",
              "      <td>2010-01-25 10:57:54</td>\n",
              "      <td>Online JSONP converter/wrapper</td>\n",
              "      <td>&lt;p&gt;I would like to fetch a source of file and ...</td>\n",
              "      <td>&lt;web-services&gt;&lt;json&gt;&lt;cross-domain&gt;&lt;jsonp&gt;&lt;xss&gt;</td>\n",
              "      <td>6</td>\n",
              "      <td>4835</td>\n",
              "      <td>4</td>\n",
              "      <td>4</td>\n",
              "      <td>0.0</td>\n",
              "    </tr>\n",
              "  </tbody>\n",
              "</table>\n",
              "</div>"
            ],
            "text/plain": [
              "         Id  PostTypeId         CreationDate  \\\n",
              "0  20954805           1  2014-01-06 16:42:42   \n",
              "1   2131740           1  2010-01-25 10:57:54   \n",
              "\n",
              "                                            Title  \\\n",
              "0  NLTK - Automatically translating similar words   \n",
              "1                  Online JSONP converter/wrapper   \n",
              "\n",
              "                                                Body  \\\n",
              "0  <p><strong>Big picture goal:</strong> I am mak...   \n",
              "1  <p>I would like to fetch a source of file and ...   \n",
              "\n",
              "                                             Tags  Score  ViewCount  \\\n",
              "0      <python><algorithm><nltk><wordnet><gensim>      7       2698   \n",
              "1  <web-services><json><cross-domain><jsonp><xss>      6       4835   \n",
              "\n",
              "   AnswerCount  CommentCount  FavoriteCount  \n",
              "0            2             3            0.0  \n",
              "1            4             4            0.0  "
            ]
          },
          "execution_count": 40,
          "metadata": {},
          "output_type": "execute_result"
        }
      ],
      "source": [
        "df.head(2)"
      ]
    },
    {
      "cell_type": "code",
      "execution_count": 41,
      "metadata": {
        "colab": {
          "base_uri": "https://localhost:8080/"
        },
        "id": "kCdUYjhcJ329",
        "outputId": "f71a3fc8-a739-4f30-c450-916925cb0598"
      },
      "outputs": [
        {
          "data": {
            "text/plain": [
              "Id                 int64\n",
              "PostTypeId         int64\n",
              "CreationDate      object\n",
              "Title             object\n",
              "Body              object\n",
              "Tags              object\n",
              "Score              int64\n",
              "ViewCount          int64\n",
              "AnswerCount        int64\n",
              "CommentCount       int64\n",
              "FavoriteCount    float64\n",
              "dtype: object"
            ]
          },
          "execution_count": 41,
          "metadata": {},
          "output_type": "execute_result"
        }
      ],
      "source": [
        "df.dtypes"
      ]
    },
    {
      "cell_type": "code",
      "execution_count": 42,
      "metadata": {
        "colab": {
          "base_uri": "https://localhost:8080/"
        },
        "id": "n76H_cFAJ32-",
        "outputId": "1cf278fa-ff1a-491a-b17e-8caa3a4b2e67"
      },
      "outputs": [
        {
          "data": {
            "text/plain": [
              "Id                  0\n",
              "PostTypeId          0\n",
              "CreationDate        0\n",
              "Title               0\n",
              "Body                0\n",
              "Tags                0\n",
              "Score               0\n",
              "ViewCount           0\n",
              "AnswerCount         0\n",
              "CommentCount        0\n",
              "FavoriteCount    5884\n",
              "dtype: int64"
            ]
          },
          "execution_count": 42,
          "metadata": {},
          "output_type": "execute_result"
        }
      ],
      "source": [
        "df.isna().sum()"
      ]
    },
    {
      "cell_type": "code",
      "execution_count": 43,
      "metadata": {
        "id": "j2S5hl9EJ32_"
      },
      "outputs": [],
      "source": [
        "df.drop(columns=[\"FavoriteCount\"],inplace=True)"
      ]
    },
    {
      "attachments": {},
      "cell_type": "markdown",
      "metadata": {
        "id": "oKDx6QNFJ33A"
      },
      "source": [
        "# Univariate analysis : CreationDate "
      ]
    },
    {
      "cell_type": "code",
      "execution_count": 44,
      "metadata": {
        "colab": {
          "base_uri": "https://localhost:8080/"
        },
        "id": "E1h9Hs1fJ33A",
        "outputId": "c9874c9a-fde1-41ad-ccd0-6858c436b1fd"
      },
      "outputs": [
        {
          "name": "stdout",
          "output_type": "stream",
          "text": [
            " First post of in dataframe :  2008-07-31 21:42:52\n",
            " Last post of in dataframe :  2023-06-21 21:12:39\n"
          ]
        }
      ],
      "source": [
        "df[\"CreationDate\"] = pd.to_datetime(df[\"CreationDate\"])\n",
        "print(\" First post of in dataframe : \", np.min( df[\"CreationDate\"] ))\n",
        "print(\" Last post of in dataframe : \", np.max( df[\"CreationDate\"] ))\n"
      ]
    },
    {
      "attachments": {},
      "cell_type": "markdown",
      "metadata": {
        "id": "8kA7X_M1J33B"
      },
      "source": [
        "Post are from 2008, which is actually the creation of the website to 2023. "
      ]
    },
    {
      "attachments": {},
      "cell_type": "markdown",
      "metadata": {
        "id": "D4IcKiFqJ33C"
      },
      "source": [
        "## Bi-variate and multivariate analysis : Scores and creation year \n"
      ]
    },
    {
      "attachments": {},
      "cell_type": "markdown",
      "metadata": {
        "id": "xqTQ6yExJ33C"
      },
      "source": [
        "the first assumption would be that the older a post is, the best score it has; let's verify that : \n"
      ]
    },
    {
      "cell_type": "code",
      "execution_count": 45,
      "metadata": {
        "colab": {
          "base_uri": "https://localhost:8080/",
          "height": 452
        },
        "id": "gYErpbAeJ33C",
        "outputId": "73c2cb43-b3f4-46aa-833e-af11d30f1680"
      },
      "outputs": [
        {
          "data": {
            "text/html": [
              "<div>\n",
              "<style scoped>\n",
              "    .dataframe tbody tr th:only-of-type {\n",
              "        vertical-align: middle;\n",
              "    }\n",
              "\n",
              "    .dataframe tbody tr th {\n",
              "        vertical-align: top;\n",
              "    }\n",
              "\n",
              "    .dataframe thead th {\n",
              "        text-align: right;\n",
              "    }\n",
              "</style>\n",
              "<table border=\"1\" class=\"dataframe\">\n",
              "  <thead>\n",
              "    <tr style=\"text-align: right;\">\n",
              "      <th></th>\n",
              "      <th>mean</th>\n",
              "      <th>std</th>\n",
              "      <th>75%</th>\n",
              "    </tr>\n",
              "    <tr>\n",
              "      <th>CreationYear</th>\n",
              "      <th></th>\n",
              "      <th></th>\n",
              "      <th></th>\n",
              "    </tr>\n",
              "  </thead>\n",
              "  <tbody>\n",
              "    <tr>\n",
              "      <th>2008</th>\n",
              "      <td>472.465784</td>\n",
              "      <td>1032.743231</td>\n",
              "      <td>408.0</td>\n",
              "    </tr>\n",
              "    <tr>\n",
              "      <th>2009</th>\n",
              "      <td>150.523590</td>\n",
              "      <td>747.362998</td>\n",
              "      <td>74.0</td>\n",
              "    </tr>\n",
              "    <tr>\n",
              "      <th>2010</th>\n",
              "      <td>76.605827</td>\n",
              "      <td>440.357798</td>\n",
              "      <td>37.0</td>\n",
              "    </tr>\n",
              "    <tr>\n",
              "      <th>2011</th>\n",
              "      <td>45.389172</td>\n",
              "      <td>160.618304</td>\n",
              "      <td>28.0</td>\n",
              "    </tr>\n",
              "    <tr>\n",
              "      <th>2012</th>\n",
              "      <td>39.823861</td>\n",
              "      <td>383.348806</td>\n",
              "      <td>24.0</td>\n",
              "    </tr>\n",
              "  </tbody>\n",
              "</table>\n",
              "</div>"
            ],
            "text/plain": [
              "                    mean          std    75%\n",
              "CreationYear                                \n",
              "2008          472.465784  1032.743231  408.0\n",
              "2009          150.523590   747.362998   74.0\n",
              "2010           76.605827   440.357798   37.0\n",
              "2011           45.389172   160.618304   28.0\n",
              "2012           39.823861   383.348806   24.0"
            ]
          },
          "execution_count": 45,
          "metadata": {},
          "output_type": "execute_result"
        }
      ],
      "source": [
        "# Compute median of saturated-fat_100g for each fat quantiles \n",
        "df[\"CreationYear\"] = df[\"CreationDate\"].dt.year\n",
        "groups = df.groupby('CreationYear')[\"Score\"]\n",
        "des = groups.describe()\n",
        "\n",
        "des[[\"mean\",\"std\",\"75%\"]].head()"
      ]
    },
    {
      "attachments": {},
      "cell_type": "markdown",
      "metadata": {
        "id": "VA8nzUlsJ33D"
      },
      "source": [
        "Clearly, the older the post is the most high score ouliers exist. Indeed, the mean is higher than the median and the standard deviation is high. \n",
        "\n",
        "Let's look at the different scores and correlation between them : "
      ]
    },
    {
      "cell_type": "code",
      "execution_count": 46,
      "metadata": {
        "colab": {
          "base_uri": "https://localhost:8080/",
          "height": 300
        },
        "id": "eqUAuRilJ33D",
        "outputId": "0bc49506-d1c8-4452-ab8b-607887a6550f"
      },
      "outputs": [
        {
          "data": {
            "text/html": [
              "<div>\n",
              "<style scoped>\n",
              "    .dataframe tbody tr th:only-of-type {\n",
              "        vertical-align: middle;\n",
              "    }\n",
              "\n",
              "    .dataframe tbody tr th {\n",
              "        vertical-align: top;\n",
              "    }\n",
              "\n",
              "    .dataframe thead th {\n",
              "        text-align: right;\n",
              "    }\n",
              "</style>\n",
              "<table border=\"1\" class=\"dataframe\">\n",
              "  <thead>\n",
              "    <tr style=\"text-align: right;\">\n",
              "      <th></th>\n",
              "      <th>Score</th>\n",
              "      <th>ViewCount</th>\n",
              "      <th>AnswerCount</th>\n",
              "      <th>CommentCount</th>\n",
              "    </tr>\n",
              "  </thead>\n",
              "  <tbody>\n",
              "    <tr>\n",
              "      <th>count</th>\n",
              "      <td>50000.000000</td>\n",
              "      <td>5.000000e+04</td>\n",
              "      <td>50000.000000</td>\n",
              "      <td>50000.000000</td>\n",
              "    </tr>\n",
              "    <tr>\n",
              "      <th>mean</th>\n",
              "      <td>41.969220</td>\n",
              "      <td>3.972398e+04</td>\n",
              "      <td>4.697220</td>\n",
              "      <td>5.877800</td>\n",
              "    </tr>\n",
              "    <tr>\n",
              "      <th>std</th>\n",
              "      <td>266.308615</td>\n",
              "      <td>1.712104e+05</td>\n",
              "      <td>4.774193</td>\n",
              "      <td>3.743024</td>\n",
              "    </tr>\n",
              "    <tr>\n",
              "      <th>min</th>\n",
              "      <td>6.000000</td>\n",
              "      <td>8.400000e+01</td>\n",
              "      <td>2.000000</td>\n",
              "      <td>3.000000</td>\n",
              "    </tr>\n",
              "    <tr>\n",
              "      <th>25%</th>\n",
              "      <td>8.000000</td>\n",
              "      <td>3.308000e+03</td>\n",
              "      <td>2.000000</td>\n",
              "      <td>3.000000</td>\n",
              "    </tr>\n",
              "    <tr>\n",
              "      <th>50%</th>\n",
              "      <td>12.000000</td>\n",
              "      <td>9.294500e+03</td>\n",
              "      <td>3.000000</td>\n",
              "      <td>5.000000</td>\n",
              "    </tr>\n",
              "    <tr>\n",
              "      <th>75%</th>\n",
              "      <td>24.000000</td>\n",
              "      <td>2.675050e+04</td>\n",
              "      <td>5.000000</td>\n",
              "      <td>7.000000</td>\n",
              "    </tr>\n",
              "    <tr>\n",
              "      <th>max</th>\n",
              "      <td>27014.000000</td>\n",
              "      <td>1.285623e+07</td>\n",
              "      <td>134.000000</td>\n",
              "      <td>71.000000</td>\n",
              "    </tr>\n",
              "  </tbody>\n",
              "</table>\n",
              "</div>"
            ],
            "text/plain": [
              "              Score     ViewCount   AnswerCount  CommentCount\n",
              "count  50000.000000  5.000000e+04  50000.000000  50000.000000\n",
              "mean      41.969220  3.972398e+04      4.697220      5.877800\n",
              "std      266.308615  1.712104e+05      4.774193      3.743024\n",
              "min        6.000000  8.400000e+01      2.000000      3.000000\n",
              "25%        8.000000  3.308000e+03      2.000000      3.000000\n",
              "50%       12.000000  9.294500e+03      3.000000      5.000000\n",
              "75%       24.000000  2.675050e+04      5.000000      7.000000\n",
              "max    27014.000000  1.285623e+07    134.000000     71.000000"
            ]
          },
          "execution_count": 46,
          "metadata": {},
          "output_type": "execute_result"
        }
      ],
      "source": [
        "scores = [\"Score\",\t\"ViewCount\"\t,\"AnswerCount\",\t\"CommentCount\"]\n",
        "df[scores].describe()\n"
      ]
    },
    {
      "cell_type": "code",
      "execution_count": 47,
      "metadata": {
        "colab": {
          "base_uri": "https://localhost:8080/",
          "height": 531
        },
        "id": "EoAXB4hrJ33E",
        "outputId": "d1e65633-b409-42f6-89a6-7ad20abd04da"
      },
      "outputs": [
        {
          "data": {
            "image/png": "[encoded data removed]",
            "text/plain": [
              "<Figure size 640x480 with 2 Axes>"
            ]
          },
          "metadata": {},
          "output_type": "display_data"
        }
      ],
      "source": [
        "sns.heatmap(df[scores].corr(), annot=True)\n",
        "plt.show()"
      ]
    },
    {
      "attachments": {},
      "cell_type": "markdown",
      "metadata": {
        "id": "fzmugem9J33E"
      },
      "source": [
        "The correlation is very low between the commentCount and the other scores. What is interesting is that there is a high correlation between the viewCount and the score, meaning that the more a post is seen, the higher score it get. "
      ]
    },
    {
      "attachments": {},
      "cell_type": "markdown",
      "metadata": {
        "id": "S51AOuR4J33E"
      },
      "source": [
        "# Tags \n",
        "\n",
        "Now we want to explore the tag by post, first we need to extract them trough a regex : "
      ]
    },
    {
      "cell_type": "code",
      "execution_count": 48,
      "metadata": {
        "id": "VPEIqiJLJ33F"
      },
      "outputs": [],
      "source": [
        "\n",
        "def processTags(tags) : \n",
        "    # use regex to extract tags to list \n",
        "    regex = '<([^>]+)>'\n",
        "    tagslist = re.split(regex, tags)\n",
        "    # filter None values \n",
        "    tagslist_clean = filter(None, tagslist)\n",
        "    # all tags to lower case \n",
        "    tagslist_lower = [ str(x).lower() for x in tagslist_clean ] \n",
        "    return tagslist_lower\n",
        "\n"
      ]
    },
    {
      "cell_type": "code",
      "execution_count": 49,
      "metadata": {
        "id": "fPYAZ0ynJ33F"
      },
      "outputs": [],
      "source": [
        "df[\"tag_list\"] = df[\"Tags\"].apply(processTags)"
      ]
    },
    {
      "cell_type": "code",
      "execution_count": 50,
      "metadata": {
        "id": "b5WziWAJJ33G"
      },
      "outputs": [],
      "source": [
        "\n",
        "tag_count = df[\"tag_list\"].explode().value_counts()"
      ]
    },
    {
      "cell_type": "code",
      "execution_count": 51,
      "metadata": {
        "colab": {
          "base_uri": "https://localhost:8080/"
        },
        "id": "q3t38yZhJ33G",
        "outputId": "8a48683a-a1b3-4283-f8d6-fb2ae421f072"
      },
      "outputs": [
        {
          "data": {
            "text/plain": [
              "17160"
            ]
          },
          "execution_count": 51,
          "metadata": {},
          "output_type": "execute_result"
        }
      ],
      "source": [
        "len(tag_count) # number of unique tags "
      ]
    },
    {
      "cell_type": "code",
      "execution_count": 52,
      "metadata": {
        "colab": {
          "base_uri": "https://localhost:8080/"
        },
        "id": "JZe9BBaIJ33G",
        "outputId": "e94478cf-6b4a-41fd-dfb7-69b75d3042a3"
      },
      "outputs": [
        {
          "data": {
            "text/plain": [
              "tag_list\n",
              "c#            6477\n",
              "java          6287\n",
              "c++           5629\n",
              "javascript    5402\n",
              "python        4552\n",
              "ios           3528\n",
              "android       3528\n",
              ".net          2896\n",
              "c             2560\n",
              "html          2492\n",
              "Name: count, dtype: int64"
            ]
          },
          "execution_count": 52,
          "metadata": {},
          "output_type": "execute_result"
        }
      ],
      "source": [
        "tag_count.head(10)"
      ]
    },
    {
      "attachments": {},
      "cell_type": "markdown",
      "metadata": {
        "id": "pdkb6WvwJ33G"
      },
      "source": [
        "actually most tag counts are equal to 5 "
      ]
    },
    {
      "cell_type": "code",
      "execution_count": 53,
      "metadata": {
        "colab": {
          "base_uri": "https://localhost:8080/"
        },
        "id": "oxTQBiz_J33H",
        "outputId": "052adee3-c155-4e63-945f-5db6b0620c84"
      },
      "outputs": [
        {
          "data": {
            "text/plain": [
              "tag_list\n",
              "notifydatasetchanged         1\n",
              "watchdog                     1\n",
              "double-free                  1\n",
              "request-cancelling           1\n",
              "clcircleregion               1\n",
              "css-to-pdf                   1\n",
              "activitynotfoundexception    1\n",
              "weld2                        1\n",
              "pmap                         1\n",
              "ibm-blockchain               1\n",
              "Name: count, dtype: int64"
            ]
          },
          "execution_count": 53,
          "metadata": {},
          "output_type": "execute_result"
        }
      ],
      "source": [
        "tag_count.tail(10)"
      ]
    },
    {
      "cell_type": "code",
      "execution_count": 54,
      "metadata": {
        "colab": {
          "base_uri": "https://localhost:8080/"
        },
        "id": "DAWhPdJmJ33H",
        "outputId": "b984d563-8100-42bd-942c-85651fc4b000"
      },
      "outputs": [
        {
          "name": "stdout",
          "output_type": "stream",
          "text": [
            "17160\n"
          ]
        }
      ],
      "source": [
        "number_of_different_tags  = df[\"tag_list\"].explode().unique().shape[0]\n",
        "print(number_of_different_tags)"
      ]
    },
    {
      "attachments": {},
      "cell_type": "markdown",
      "metadata": {
        "id": "e-aXWljKJ33H"
      },
      "source": [
        "There are 17148 different tags in the datasets, this is a lot for tag suggestion. So we will only keep tags in the third quartile (appearing 6 times or more)"
      ]
    },
    {
      "cell_type": "code",
      "execution_count": 55,
      "metadata": {
        "colab": {
          "base_uri": "https://localhost:8080/"
        },
        "id": "qDawNprGJ33H",
        "outputId": "0e4e6661-d85b-42e3-d02f-93aa0c10048e"
      },
      "outputs": [
        {
          "name": "stdout",
          "output_type": "stream",
          "text": [
            "3983\n",
            "23.210955710955712\n"
          ]
        }
      ],
      "source": [
        "Q3_tag_count = np.quantile(tag_count, 0.75)\n",
        "tag_list_to_keep = tag_count[tag_count > Q3_tag_count ].index\n",
        "print(tag_list_to_keep.shape[0])\n",
        "print(tag_list_to_keep.shape[0]/number_of_different_tags *100)"
      ]
    },
    {
      "attachments": {},
      "cell_type": "markdown",
      "metadata": {
        "id": "C30HNkEFJ33I"
      },
      "source": [
        "Here we only select 3971 tags over the 1748, so around **25%**. "
      ]
    },
    {
      "cell_type": "code",
      "execution_count": 56,
      "metadata": {
        "id": "vkMfWpU9J33I"
      },
      "outputs": [],
      "source": [
        "def keep_most_used_tags(tag_list): \n",
        "    tag_list = [ str(tag)  for tag in tag_list   if tag in tag_list_to_keep]\n",
        "    return tag_list"
      ]
    },
    {
      "cell_type": "code",
      "execution_count": 57,
      "metadata": {
        "id": "N1BcQcpPJ33I"
      },
      "outputs": [],
      "source": [
        "df[\"tag_list_clean\"] = df[\"tag_list\"].apply(keep_most_used_tags)"
      ]
    },
    {
      "cell_type": "code",
      "execution_count": 58,
      "metadata": {
        "colab": {
          "base_uri": "https://localhost:8080/",
          "height": 206
        },
        "id": "gryyEeI6J33I",
        "outputId": "02f1d7d2-d2de-4a46-efbc-a81bbd5ddf6a"
      },
      "outputs": [
        {
          "data": {
            "text/html": [
              "<div>\n",
              "<style scoped>\n",
              "    .dataframe tbody tr th:only-of-type {\n",
              "        vertical-align: middle;\n",
              "    }\n",
              "\n",
              "    .dataframe tbody tr th {\n",
              "        vertical-align: top;\n",
              "    }\n",
              "\n",
              "    .dataframe thead th {\n",
              "        text-align: right;\n",
              "    }\n",
              "</style>\n",
              "<table border=\"1\" class=\"dataframe\">\n",
              "  <thead>\n",
              "    <tr style=\"text-align: right;\">\n",
              "      <th></th>\n",
              "      <th>tag_list</th>\n",
              "      <th>tag_list_clean</th>\n",
              "    </tr>\n",
              "  </thead>\n",
              "  <tbody>\n",
              "    <tr>\n",
              "      <th>0</th>\n",
              "      <td>[python, algorithm, nltk, wordnet, gensim]</td>\n",
              "      <td>[python, algorithm, nltk]</td>\n",
              "    </tr>\n",
              "    <tr>\n",
              "      <th>1</th>\n",
              "      <td>[web-services, json, cross-domain, jsonp, xss]</td>\n",
              "      <td>[web-services, json, cross-domain, jsonp, xss]</td>\n",
              "    </tr>\n",
              "    <tr>\n",
              "      <th>2</th>\n",
              "      <td>[ruby-on-rails, ruby, testing, factory-bot, ma...</td>\n",
              "      <td>[ruby-on-rails, ruby, testing]</td>\n",
              "    </tr>\n",
              "    <tr>\n",
              "      <th>3</th>\n",
              "      <td>[ruby-on-rails, ruby, memory, memory-leaks, ru...</td>\n",
              "      <td>[ruby-on-rails, ruby, memory, memory-leaks]</td>\n",
              "    </tr>\n",
              "    <tr>\n",
              "      <th>4</th>\n",
              "      <td>[c, arrays, pointers, dereference, operator-pr...</td>\n",
              "      <td>[c, arrays, pointers, dereference, operator-pr...</td>\n",
              "    </tr>\n",
              "  </tbody>\n",
              "</table>\n",
              "</div>"
            ],
            "text/plain": [
              "                                            tag_list  \\\n",
              "0         [python, algorithm, nltk, wordnet, gensim]   \n",
              "1     [web-services, json, cross-domain, jsonp, xss]   \n",
              "2  [ruby-on-rails, ruby, testing, factory-bot, ma...   \n",
              "3  [ruby-on-rails, ruby, memory, memory-leaks, ru...   \n",
              "4  [c, arrays, pointers, dereference, operator-pr...   \n",
              "\n",
              "                                      tag_list_clean  \n",
              "0                          [python, algorithm, nltk]  \n",
              "1     [web-services, json, cross-domain, jsonp, xss]  \n",
              "2                     [ruby-on-rails, ruby, testing]  \n",
              "3        [ruby-on-rails, ruby, memory, memory-leaks]  \n",
              "4  [c, arrays, pointers, dereference, operator-pr...  "
            ]
          },
          "execution_count": 58,
          "metadata": {},
          "output_type": "execute_result"
        }
      ],
      "source": [
        "df[[\"tag_list\",\"tag_list_clean\"]].head()"
      ]
    },
    {
      "attachments": {},
      "cell_type": "markdown",
      "metadata": {
        "id": "lIWUFxUkJ33J"
      },
      "source": [
        "Here is a subset example, nswindowcontrol was not kept. "
      ]
    },
    {
      "cell_type": "code",
      "execution_count": 59,
      "metadata": {
        "colab": {
          "base_uri": "https://localhost:8080/",
          "height": 285
        },
        "id": "TCA7dz4gJ33J",
        "outputId": "6a690ad8-06cf-4b7a-ff13-52bb0a2faec6"
      },
      "outputs": [
        {
          "data": {
            "image/png": "[encoded data removed]",
            "text/plain": [
              "<Figure size 640x480 with 1 Axes>"
            ]
          },
          "metadata": {},
          "output_type": "display_data"
        }
      ],
      "source": [
        "text = ' '.join(tuple(df[\"tag_list\"].explode()))\n",
        "\n",
        "#create the wordcloud object\n",
        "wordcloud = WordCloud(collocations = False,\n",
        "                      background_color = 'white',\n",
        "                      max_words=50).generate(text)\n",
        "                    #   font_path=r\"C:\\Users\\Clara\\Documents\\dev\\machine_learning\\cours\\NLP\\GothamMedium.ttf\"\n",
        "plt.imshow(wordcloud)\n",
        "plt.axis(\"off\")\n",
        "plt.show()"
      ]
    },
    {
      "attachments": {},
      "cell_type": "markdown",
      "metadata": {
        "id": "lJPE9Wb4J33U"
      },
      "source": [
        "The idea is also that tag link to the same post have common semantics. How to use  that ???? "
      ]
    },
    {
      "attachments": {},
      "cell_type": "markdown",
      "metadata": {
        "id": "wOmfx42sJ33U"
      },
      "source": [
        "## Length of post  : \n",
        "remove interquartile outliers "
      ]
    },
    {
      "attachments": {},
      "cell_type": "markdown",
      "metadata": {
        "id": "W6IVNdf5J33U"
      },
      "source": [
        "This post is very short, for better lets analyse the length of posts : "
      ]
    },
    {
      "cell_type": "code",
      "execution_count": 60,
      "metadata": {
        "id": "eiLZrzNlJ33V"
      },
      "outputs": [],
      "source": [
        "\n",
        "\n",
        "def returnRawTextTromHTML(htmltext): \n",
        "    soup = BeautifulSoup(htmltext, 'html.parser')\n",
        "    soup_str = soup.get_text()\n",
        "    return soup_str\n",
        "\n",
        "def lengthOfDoc(doc) : \n",
        "    return len(doc.split())\n"
      ]
    },
    {
      "cell_type": "code",
      "execution_count": 61,
      "metadata": {
        "colab": {
          "base_uri": "https://localhost:8080/"
        },
        "id": "T9Y7Ln0xJ33V",
        "outputId": "9d5a90d2-d293-4088-c143-0ed9948ef4d9"
      },
      "outputs": [
        {
          "name": "stderr",
          "output_type": "stream",
          "text": [
            "C:\\Users\\clara\\AppData\\Local\\Temp\\ipykernel_27344\\223150988.py:2: MarkupResemblesLocatorWarning: The input looks more like a filename than markup. You may want to open this file and pass the filehandle into Beautiful Soup.\n",
            "  soup = BeautifulSoup(htmltext, 'html.parser')\n"
          ]
        }
      ],
      "source": [
        "df[\"Title_str\"] = df[\"Title\"].apply(returnRawTextTromHTML)"
      ]
    },
    {
      "cell_type": "code",
      "execution_count": 62,
      "metadata": {
        "id": "Vtmblr77J33V"
      },
      "outputs": [],
      "source": [
        "df[\"Body_str\"] = df[\"Body\"].apply(returnRawTextTromHTML)"
      ]
    },
    {
      "cell_type": "code",
      "execution_count": 63,
      "metadata": {
        "id": "DNBeb1PwJ33W"
      },
      "outputs": [],
      "source": [
        "df[\"posts_length\"] = df[\"Body_str\"].apply(lengthOfDoc)"
      ]
    },
    {
      "cell_type": "code",
      "execution_count": 64,
      "metadata": {
        "colab": {
          "base_uri": "https://localhost:8080/"
        },
        "id": "hflye11EJ33W",
        "outputId": "2a272fa5-cdda-428f-f08c-2a9dbdbfa1c5"
      },
      "outputs": [
        {
          "data": {
            "text/plain": [
              "count    50000.000000\n",
              "mean       216.269880\n",
              "std        220.073316\n",
              "min          6.000000\n",
              "25%         93.000000\n",
              "50%        155.000000\n",
              "75%        262.000000\n",
              "max      10725.000000\n",
              "Name: posts_length, dtype: float64"
            ]
          },
          "execution_count": 64,
          "metadata": {},
          "output_type": "execute_result"
        }
      ],
      "source": [
        "df[\"posts_length\"].describe()"
      ]
    },
    {
      "cell_type": "code",
      "execution_count": 65,
      "metadata": {
        "id": "h3An0AJYJ33X"
      },
      "outputs": [],
      "source": [
        "# Remove outliers\n",
        "def drop_interquartile_outliers(column, dataFrame):\n",
        "    Q3 = np.quantile(column, 0.75)\n",
        "    Q1 = np.quantile(column, 0.25)\n",
        "    IQR = Q3 - Q1\n",
        "    lower_range = Q1 - 1.5 * IQR\n",
        "    upper_range = Q3 + 1.5 * IQR\n",
        "    mask = (column < lower_range) | (column > upper_range)\n",
        "    dataFrame.drop(column.loc[mask].index, inplace=True)"
      ]
    },
    {
      "attachments": {},
      "cell_type": "markdown",
      "metadata": {
        "id": "oaLoY7FNJ33X"
      },
      "source": [
        "Only keep post of more than 100 words : "
      ]
    },
    {
      "cell_type": "code",
      "execution_count": 66,
      "metadata": {
        "id": "TjVPzy8LJ33Y"
      },
      "outputs": [],
      "source": [
        "mask = df[\"posts_length\"] < 100 \n",
        "df.drop(df.loc[mask].index, inplace=True)"
      ]
    },
    {
      "attachments": {},
      "cell_type": "markdown",
      "metadata": {
        "id": "J1_ILFnbJ33Y"
      },
      "source": [
        "# View first post : "
      ]
    },
    {
      "cell_type": "code",
      "execution_count": 70,
      "metadata": {
        "colab": {
          "base_uri": "https://localhost:8080/",
          "height": 824
        },
        "id": "OiFdAZAUJ33Z",
        "outputId": "da74e0a6-b8d1-4248-9079-f3674478006b"
      },
      "outputs": [
        {
          "name": "stdout",
          "output_type": "stream",
          "text": [
            "Title : \n"
          ]
        },
        {
          "data": {
            "text/html": [
              "NLTK - Automatically translating similar words"
            ],
            "text/plain": [
              "<IPython.core.display.HTML object>"
            ]
          },
          "metadata": {},
          "output_type": "display_data"
        },
        {
          "name": "stdout",
          "output_type": "stream",
          "text": [
            "Posts : \n"
          ]
        },
        {
          "data": {
            "text/html": [
              "<p><strong>Big picture goal:</strong> I am making an LDA model of product reviews in Python using NLTK and Gensim. I want to run this on varying n-grams. </p>\n",
              "\n",
              "<p><strong>Problem:</strong> Everything is great with unigrams, but when I run with bigrams, I start to get topics with repeated information. For example, Topic 1 might contain: <code>['good product', 'good value']</code>, and Topic 4 might contain: <code>['great product', 'great value']</code>. To a human these are obviously conveying the same information, but obviously <code>'good product'</code> and <code>'great product'</code> are distinct bigrams. How do I algorithmically determine that <code>'good product'</code> and <code>'great product'</code> are similar enough, so I can translate all occurrences of one of them to the other (maybe the one that appears more often in the corpus)?</p>\n",
              "\n",
              "<p><strong>What I've tried:</strong> I played around with WordNet's Synset tree, with little luck. It turns out that <code>good</code> is an 'adjective', but <code>great</code> is an 'adjective satellite', and therefore return <code>None</code> for path similarity. My thought process was to do the following:</p>\n",
              "\n",
              "<ol>\n",
              "<li>Part of speech tag the sentence</li>\n",
              "<li>Use these POS to find the correct Synset</li>\n",
              "<li>Compute similarity of the two Synsets</li>\n",
              "<li>If they are above some threshold, compute occurrences of both words</li>\n",
              "<li>Replace the least occurring word with the most occurring word</li>\n",
              "</ol>\n",
              "\n",
              "<p>Ideally, though, I'd like an algorithm that can determine that <code>good</code> and <code>great</code> are similar <em>in my corpus</em> (perhaps in a co-occurring sense), so that it can be extended to words that aren't part of the general English language, but appear in my corpus, and so that it can be extended to n-grams (maybe <code>Oracle</code> and <code>terrible</code> are synonymous in my corpus, or <code>feature engineering</code> and <code>feature creation</code> are similar).</p>\n",
              "\n",
              "<p>Any suggestions on algorithms, or suggestions to get WordNet synset to behave?</p>\n"
            ],
            "text/plain": [
              "<IPython.core.display.HTML object>"
            ]
          },
          "metadata": {},
          "output_type": "display_data"
        },
        {
          "name": "stdout",
          "output_type": "stream",
          "text": [
            "Tags :  python algorithm nltk wordnet gensim\n"
          ]
        }
      ],
      "source": [
        "\n",
        "title = df.iloc[0][[\"Title\"]][0]\n",
        "bodyPost = df.iloc[0][[\"Body\"]][0]\n",
        "tags = df.iloc[0][[\"Tags\"]][0]\n",
        "\n",
        "\n",
        "tag_of_post = processTags(tags)\n",
        "\n",
        "\n",
        "print(\"Title : \")\n",
        "display(HTML(title))\n",
        "print(\"Posts : \")\n",
        "display(HTML(bodyPost))\n",
        "print(\"Tags : \",' '.join(tag_of_post))\n"
      ]
    },
    {
      "attachments": {},
      "cell_type": "markdown",
      "metadata": {
        "id": "Zujt0Re4J33Z"
      },
      "source": [
        "# Handling HTML "
      ]
    },
    {
      "cell_type": "code",
      "execution_count": 71,
      "metadata": {
        "id": "fwnvq8TiJ33a"
      },
      "outputs": [],
      "source": [
        "body_str = returnRawTextTromHTML(bodyPost)"
      ]
    },
    {
      "attachments": {},
      "cell_type": "markdown",
      "metadata": {
        "id": "j9lbqofZJ33a"
      },
      "source": [
        "## Create dictionnary of the corpus "
      ]
    },
    {
      "cell_type": "code",
      "execution_count": 72,
      "metadata": {
        "colab": {
          "base_uri": "https://localhost:8080/"
        },
        "id": "hINVkSCSJ33b",
        "outputId": "800421f2-fd55-4b10-e1a4-aa7dcc6c651f"
      },
      "outputs": [
        {
          "name": "stderr",
          "output_type": "stream",
          "text": [
            "[nltk_data] Downloading package stopwords to\n",
            "[nltk_data]     C:\\Users\\clara\\AppData\\Roaming\\nltk_data...\n",
            "[nltk_data]   Unzipping corpora\\stopwords.zip.\n",
            "[nltk_data] Downloading package punkt to\n",
            "[nltk_data]     C:\\Users\\clara\\AppData\\Roaming\\nltk_data...\n",
            "[nltk_data]   Unzipping tokenizers\\punkt.zip.\n",
            "[nltk_data] Downloading package wordnet to\n",
            "[nltk_data]     C:\\Users\\clara\\AppData\\Roaming\\nltk_data...\n"
          ]
        }
      ],
      "source": [
        "nltk.download('stopwords')\n",
        "nltk.download('punkt')\n",
        "nltk.download('wordnet')\n",
        "englishstopwords = stopwords.words('english')\n",
        "\n",
        "def tokenize_stopwords_and_short_words_handling(tokens, body) : \n",
        "    for token in nltk.word_tokenize(body) : \n",
        "        if token not in englishstopwords and len(token) > 3 : \n",
        "            word = lemmatizer.lemmatize(token)\n",
        "            tokens.append(word)\n",
        "    return tokens"
      ]
    },
    {
      "cell_type": "code",
      "execution_count": 73,
      "metadata": {
        "id": "SMnXoZGtJ33b"
      },
      "outputs": [],
      "source": [
        "dic = ' '.join(df[\"Body_str\"])"
      ]
    },
    {
      "cell_type": "code",
      "execution_count": 74,
      "metadata": {
        "id": "Vc8mqEYRJ33c"
      },
      "outputs": [],
      "source": [
        "tokens = []\n",
        "lemmatizer = WordNetLemmatizer()\n",
        "for body in df[\"Body_str\"] : \n",
        "    tokens = tokenize_stopwords_and_short_words_handling(tokens, body)\n"
      ]
    },
    {
      "cell_type": "code",
      "execution_count": 75,
      "metadata": {
        "colab": {
          "base_uri": "https://localhost:8080/"
        },
        "id": "TRBoDyUBJ33c",
        "outputId": "cf3ddda7-f754-43af-ca20-d89714f4e26c"
      },
      "outputs": [
        {
          "data": {
            "text/plain": [
              "5571737"
            ]
          },
          "execution_count": 75,
          "metadata": {},
          "output_type": "execute_result"
        }
      ],
      "source": [
        "len(tokens)"
      ]
    },
    {
      "cell_type": "code",
      "execution_count": 76,
      "metadata": {
        "id": "cgz3SO6GJ33d"
      },
      "outputs": [],
      "source": [
        "token_series = pd.Series(tokens)\n",
        "token_series = token_series[token_series.duplicated(keep=False)]\n",
        "most_used_words_100 = token_series.value_counts().head(100).index"
      ]
    },
    {
      "cell_type": "code",
      "execution_count": 77,
      "metadata": {
        "colab": {
          "base_uri": "https://localhost:8080/"
        },
        "id": "dVvgFy5dJ33d",
        "outputId": "8fa31adf-fec7-452a-b36d-0bc8eadf9b2f"
      },
      "outputs": [
        {
          "data": {
            "text/plain": [
              "Index(['using', 'public', 'code', 'return', 'file', 'class', 'like',\n",
              "       'function', 'error', 'work', 'would', 'data', 'http', 'value', 'This',\n",
              "       'void', 'problem', 'android', 'import', 'want', 'time', 'type',\n",
              "       'string', 'need', 'method', 'user', 'following', 'object', 'true',\n",
              "       'line', 'name', 'String', 'result', 'version', 'tried', 'test',\n",
              "       'application', 'know', 'also', 'question', 'private', 'make', 'example',\n",
              "       'call', 'could', 'null', 'trying', 'project', 'server', 'case', 'image',\n",
              "       'something', 'solution', 'const', 'found', 'static', 'false', 'Here',\n",
              "       'issue', 'request', 'What', 'used', 'find', 'first', 'array', 'page',\n",
              "       'else', 'class=', 'name=', 'change', 'working', 'main', 'seems', 'list',\n",
              "       'text', 'message', 'different', 'number', 'help', 'still', 'When',\n",
              "       'look', 'table', 'create', 'However', 'include', 'input', 'view',\n",
              "       'thread', 'without', 'output', 'point', 'running', 'library', 'even',\n",
              "       'property', 'option', 'read', 'second', 'answer'],\n",
              "      dtype='object')"
            ]
          },
          "execution_count": 77,
          "metadata": {},
          "output_type": "execute_result"
        }
      ],
      "source": [
        "most_used_words_100"
      ]
    },
    {
      "attachments": {},
      "cell_type": "markdown",
      "metadata": {
        "id": "9-ed-uxZJ33e"
      },
      "source": [
        "# remove most used words"
      ]
    },
    {
      "cell_type": "code",
      "execution_count": 78,
      "metadata": {
        "colab": {
          "base_uri": "https://localhost:8080/"
        },
        "id": "NYOK3VJaJ33e",
        "outputId": "fa9efc26-abac-498f-f2f8-037c707617ed"
      },
      "outputs": [
        {
          "data": {
            "text/plain": [
              "0            picture\n",
              "1               goal\n",
              "2             making\n",
              "3              model\n",
              "4            product\n",
              "             ...    \n",
              "5571732       honest\n",
              "5571733         What\n",
              "5571734       option\n",
              "5571735    available\n",
              "5571736       Thanks\n",
              "Length: 5191893, dtype: object"
            ]
          },
          "execution_count": 78,
          "metadata": {},
          "output_type": "execute_result"
        }
      ],
      "source": [
        "token_series"
      ]
    },
    {
      "cell_type": "code",
      "execution_count": 79,
      "metadata": {
        "colab": {
          "base_uri": "https://localhost:8080/"
        },
        "id": "gziE62o3J33f",
        "outputId": "19986173-e8e1-48f9-ab45-65e243ea0fef"
      },
      "outputs": [
        {
          "data": {
            "text/plain": [
              "5191893"
            ]
          },
          "execution_count": 79,
          "metadata": {},
          "output_type": "execute_result"
        }
      ],
      "source": [
        "list = token_series.index.to_list()\n",
        "len(list)"
      ]
    },
    {
      "cell_type": "code",
      "execution_count": 80,
      "metadata": {
        "colab": {
          "base_uri": "https://localhost:8080/"
        },
        "id": "6xksN_85J33f",
        "outputId": "3b4cab73-6262-444d-f0fc-44414a7c1cfb"
      },
      "outputs": [
        {
          "data": {
            "text/plain": [
              "(5191893,)"
            ]
          },
          "execution_count": 80,
          "metadata": {},
          "output_type": "execute_result"
        }
      ],
      "source": [
        "token_series.values.shape"
      ]
    },
    {
      "cell_type": "code",
      "execution_count": 81,
      "metadata": {
        "colab": {
          "base_uri": "https://localhost:8080/"
        },
        "id": "EmT0wcUWJ33g",
        "outputId": "a9fb4e59-495e-471e-885e-02a27d4f1efc"
      },
      "outputs": [
        {
          "data": {
            "text/plain": [
              "0          False\n",
              "1          False\n",
              "2          False\n",
              "3          False\n",
              "4          False\n",
              "           ...  \n",
              "5571732    False\n",
              "5571733     True\n",
              "5571734     True\n",
              "5571735    False\n",
              "5571736    False\n",
              "Length: 5191893, dtype: bool"
            ]
          },
          "execution_count": 81,
          "metadata": {},
          "output_type": "execute_result"
        }
      ],
      "source": [
        "token_series.isin(most_used_words_100)"
      ]
    },
    {
      "cell_type": "code",
      "execution_count": 82,
      "metadata": {
        "id": "norDG3L7J33g"
      },
      "outputs": [],
      "source": [
        "token_list = token_series.values\n",
        "token_series_clean = token_series[ ~token_series.isin(most_used_words_100) ]\n"
      ]
    },
    {
      "cell_type": "code",
      "execution_count": 85,
      "metadata": {
        "colab": {
          "base_uri": "https://localhost:8080/",
          "height": 285
        },
        "id": "OeT6qftEJ33g",
        "outputId": "f23c60f5-ffc6-4440-e57c-a6728e1d4110"
      },
      "outputs": [
        {
          "data": {
            "image/png": "[encoded data removed]",
            "text/plain": [
              "<Figure size 640x480 with 1 Axes>"
            ]
          },
          "metadata": {},
          "output_type": "display_data"
        }
      ],
      "source": [
        "text = ' '.join(tuple(token_series_clean.values))\n",
        "\n",
        "#create the wordcloud object\n",
        "wordcloud = WordCloud(collocations = False,\n",
        "                      background_color = 'white',\n",
        "                      max_words=50).generate(text)\n",
        "                    #   font_path=r\"C:\\Users\\Clara\\Documents\\dev\\machine_learning\\cours\\NLP\\GothamMedium.ttf\"\n",
        "plt.imshow(wordcloud)\n",
        "plt.axis(\"off\")\n",
        "plt.show()"
      ]
    },
    {
      "cell_type": "code",
      "execution_count": 86,
      "metadata": {
        "id": "3VzLVdEIJ33h"
      },
      "outputs": [],
      "source": [
        "# Save words dictionary of the entire corpus : \n",
        "np.save(output_dir + \"token_series_clean.npy\", token_series_clean.values, allow_pickle=True)"
      ]
    },
    {
      "attachments": {},
      "cell_type": "markdown",
      "metadata": {
        "id": "yzoO73oJJ33h"
      },
      "source": [
        "# corpus creation : "
      ]
    },
    {
      "cell_type": "code",
      "execution_count": 87,
      "metadata": {
        "id": "3WmJJRSUJ33h"
      },
      "outputs": [],
      "source": [
        "def tokenize_stopwords_and_short_words_most_used_handling(input_string,  list_non_selected_tokens, pattern1 , pattern2) : \n",
        "    tokens = []\n",
        "    for token in nltk.word_tokenize(input_string) : \n",
        "      if  len(token) > 3 : \n",
        "        if token not in list_non_selected_tokens : \n",
        "          if not pattern1.match(token) and not pattern2.match(token): \n",
        "              word = lemmatizer.lemmatize(token)\n",
        "              tokens.append(word)\n",
        "    return tokens"
      ]
    },
    {
      "cell_type": "code",
      "execution_count": 88,
      "metadata": {
        "id": "zUY6c6a_Enqm"
      },
      "outputs": [],
      "source": [
        "regex1 = \"^.*\\/[^\\/]+\" \n",
        "pattern1 = re.compile(regex1)\n",
        "regex2 = \"([^-]*-+[^-]+)+\"\n",
        "pattern2 = re.compile(regex2)\n",
        "urls = ['http', 'https']\n",
        "list_non_selected_words = np.concatenate((englishstopwords , most_used_words_100, urls))\n",
        "\n",
        "def mysem(input_string) : \n",
        "  return tokenize_stopwords_and_short_words_most_used_handling(input_string, list_non_selected_words, pattern1, pattern2)"
      ]
    },
    {
      "cell_type": "code",
      "execution_count": 89,
      "metadata": {
        "colab": {
          "base_uri": "https://localhost:8080/"
        },
        "id": "hqF1QHxZSXNR",
        "outputId": "1af6dda8-c011-4567-dbc9-f6fb389e71a3"
      },
      "outputs": [
        {
          "name": "stdout",
          "output_type": "stream",
          "text": [
            "NLTK - Automatically translating similar words\n",
            "['NLTK', 'Automatically', 'translating', 'similar', 'word']\n"
          ]
        }
      ],
      "source": [
        "\n",
        "print(df[[\"Title_str\"]].iloc[0].values[0])\n",
        "print(mysem(df[[\"Title_str\"]].iloc[0].values[0]))"
      ]
    },
    {
      "cell_type": "code",
      "execution_count": 90,
      "metadata": {
        "colab": {
          "base_uri": "https://localhost:8080/"
        },
        "id": "rqGecAdOBP_n",
        "outputId": "01000832-3d20-419f-826f-964376b95e98"
      },
      "outputs": [
        {
          "name": "stdout",
          "output_type": "stream",
          "text": [
            "[]\n",
            "[]\n"
          ]
        }
      ],
      "source": [
        "test = \"https://stackoverflow.com/questions/72596413/how-to-obtain-sentencetransformer-vocab-from-corpus-or-query\"\n",
        "print(mysem(test))\n",
        "test2 = \"how-to-obtain-sentencetransformer-vocab-from-corpus-or-query\"  \n",
        "print(mysem(test2))                                                      "
      ]
    },
    {
      "cell_type": "code",
      "execution_count": 91,
      "metadata": {
        "colab": {
          "base_uri": "https://localhost:8080/"
        },
        "id": "XvnE8GnaJ33h",
        "outputId": "ad8fcdee-569f-4953-dae8-fc1586943cb7"
      },
      "outputs": [
        {
          "ename": "NameError",
          "evalue": "name 'tqdm' is not defined",
          "output_type": "error",
          "traceback": [
            "\u001b[1;31m---------------------------------------------------------------------------\u001b[0m",
            "\u001b[1;31mNameError\u001b[0m                                 Traceback (most recent call last)",
            "Cell \u001b[1;32mIn[91], line 4\u001b[0m\n\u001b[0;32m      2\u001b[0m titles \u001b[39m=\u001b[39m []\n\u001b[0;32m      3\u001b[0m tags \u001b[39m=\u001b[39m []\n\u001b[1;32m----> 4\u001b[0m pbar \u001b[39m=\u001b[39m tqdm\u001b[39m.\u001b[39mtqdm(total\u001b[39m=\u001b[39mdf\u001b[39m.\u001b[39mshape[\u001b[39m0\u001b[39m])\n\u001b[0;32m      5\u001b[0m \u001b[39mfor\u001b[39;00m index, row \u001b[39min\u001b[39;00m df\u001b[39m.\u001b[39miterrows():\n\u001b[0;32m      7\u001b[0m     tokens \u001b[39m=\u001b[39m mysem(row[\u001b[39m\"\u001b[39m\u001b[39mBody_str\u001b[39m\u001b[39m\"\u001b[39m])\n",
            "\u001b[1;31mNameError\u001b[0m: name 'tqdm' is not defined"
          ]
        }
      ],
      "source": [
        "\n",
        "corpus = [] \n",
        "titles = []\n",
        "tags = []\n",
        "pbar = tqdm.tqdm(total=df.shape[0])\n",
        "for index, row in df.iterrows():\n",
        "    \n",
        "    tokens = mysem(row[\"Body_str\"])\n",
        "    \n",
        "    tokens_title = mysem(row[\"Title_str\"])\n",
        "    \n",
        "    corpus.append(tokens)\n",
        "    titles.append(tokens_title)\n",
        "    tags.append(row[\"tag_list_clean\"])\n",
        "    \n",
        "    pbar.update(1)\n",
        "    \n",
        "pbar.close()\n"
      ]
    },
    {
      "cell_type": "code",
      "execution_count": null,
      "metadata": {
        "colab": {
          "base_uri": "https://localhost:8080/"
        },
        "id": "jLbW5UHeFXJ2",
        "outputId": "3d1a9b62-76fc-4eef-d0cb-e690615104b5"
      },
      "outputs": [
        {
          "name": "stderr",
          "output_type": "stream",
          "text": [
            "/usr/local/lib/python3.10/dist-packages/numpy/lib/npyio.py:518: VisibleDeprecationWarning: Creating an ndarray from ragged nested sequences (which is a list-or-tuple of lists-or-tuples-or ndarrays with different lengths or shapes) is deprecated. If you meant to do this, you must specify 'dtype=object' when creating the ndarray.\n",
            "  arr = np.asanyarray(arr)\n"
          ]
        }
      ],
      "source": [
        "np.save(output_dir + \"corpus.npy\"       ,corpus, allow_pickle=True)\n",
        "np.save(output_dir + \"corpus_tags.npy\" ,tags,   allow_pickle=True)\n",
        "np.save(output_dir + \"titles.npy\"      ,titles, allow_pickle=True)"
      ]
    }
  ],
  "metadata": {
    "colab": {
      "provenance": [],
      "toc_visible": true
    },
    "kernelspec": {
      "display_name": "Python 3",
      "language": "python",
      "name": "python3"
    },
    "language_info": {
      "codemirror_mode": {
        "name": "ipython",
        "version": 3
      },
      "file_extension": ".py",
      "mimetype": "text/x-python",
      "name": "python",
      "nbconvert_exporter": "python",
      "pygments_lexer": "ipython3",
      "version": "3.8.10"
    },
    "orig_nbformat": 4
  },
  "nbformat": 4,
  "nbformat_minor": 0
}
